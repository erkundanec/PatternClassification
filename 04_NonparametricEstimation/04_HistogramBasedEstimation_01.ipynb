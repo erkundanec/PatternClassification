{
 "cells": [
  {
   "cell_type": "markdown",
   "metadata": {
    "toc": true
   },
   "source": [
    "<h1>Table of Contents<span class=\"tocSkip\"></span></h1>\n",
    "<div class=\"toc\"><ul class=\"toc-item\"><li><span><a href=\"#Histogram-based-estimation\" data-toc-modified-id=\"Histogram-based-estimation-1\"><span class=\"toc-item-num\">1&nbsp;&nbsp;</span>Histogram based estimation</a></span><ul class=\"toc-item\"><li><span><a href=\"#Define-the-distribution-with-known-parameters\" data-toc-modified-id=\"Define-the-distribution-with-known-parameters-1.1\"><span class=\"toc-item-num\">1.1&nbsp;&nbsp;</span>Define the distribution with known parameters</a></span></li><li><span><a href=\"#Estimate-the-distribution-using-the-data-samples-without-any-knowledge-of-parameters\" data-toc-modified-id=\"Estimate-the-distribution-using-the-data-samples-without-any-knowledge-of-parameters-1.2\"><span class=\"toc-item-num\">1.2&nbsp;&nbsp;</span>Estimate the distribution using the data samples without any knowledge of parameters</a></span></li></ul></li></ul></div>"
   ]
  },
  {
   "cell_type": "code",
   "execution_count": 1,
   "metadata": {},
   "outputs": [
    {
     "data": {
      "text/html": [
       "<style>\n",
       "@import url('http://fonts.googleapis.com/css?family=Source+Code+Pro');\n",
       "@import url('http://fonts.googleapis.com/css?family=Lora');\n",
       "\n",
       ".CodeMirror pre, .CodeMirror-dialog, .CodeMirror-dialog .CodeMirror-search-field, .terminal-app .terminal {\n",
       "    font-family: YOUR-FAV-FONT;\n",
       "    font-size: 16pt;\n",
       "}\n",
       "\n",
       ".CodeMirror pre {\n",
       "    font-family: \"Ubuntu\", monospace;\n",
       "}\n",
       "    div.cell{\n",
       "        width: 950px;\n",
       "        #margin-left: 0% !important;\n",
       "        #margin-right: auto;\n",
       "    }\n",
       "    div.text_cell_render{\n",
       "        font-family: \"Ubuntu\";\n",
       "        line-height: 115%;\n",
       "        font-size: 140%;\n",
       "        text-align: justify;\n",
       "        text-justify:inter-word;\n",
       "    }\n",
       "    div.text_cell code {\n",
       "        background: transparent;\n",
       "        color: #000000;\n",
       "        font-weight: 400;\n",
       "        font-size: 12pt;\n",
       "        font-family:  'Source Code Pro', Consolas, monocco, monospace;\n",
       "   }\n",
       "    h1 {\n",
       "        font-family: \"Ubuntu\";\n",
       "\t}\n",
       "\n",
       "    div.input_area {\n",
       "        background: #F6F6F9;\n",
       "        border: 1px solid #586e75;\n",
       "    }\n",
       "\n",
       "    .text_cell_render h1 {\n",
       "        font-weight: 200;\n",
       "        font-size: 30pt;\n",
       "\t#font-style: italic;\n",
       "        line-height: 100%;\n",
       "        color:#1f499c;\n",
       "        #margin-bottom: 0.1em;\n",
       "        #margin-top: 0.1em;\n",
       "        display: block;\n",
       "        #white-space: wrap;\n",
       "        text-align: left;\n",
       "    }\n",
       "    h2 {\n",
       "\tfont-family: \"Ubuntu\";\n",
       "        #font-family: 'Open sans',verdana,arial,sans-serif;\n",
       "        text-align: left;\n",
       "    }\n",
       "    .text_cell_render h2 {\n",
       "        font-weight: 200;\n",
       "        font-size: 24pt;\n",
       "        #font-style: italic;\n",
       "        #line-height: 100%;\n",
       "        color:#54ad1c;\n",
       "        #margin-bottom: 0.1em;\n",
       "        #margin-top: 0.1em;\n",
       "        display: block;\n",
       "        white-space: wrap;\n",
       "        text-align: left;\n",
       "    }\n",
       "    h3 {\n",
       "        font-family: \"Ubuntu\";\n",
       "    }\n",
       "    .text_cell_render h3 {\n",
       "        font-weight: 200;\n",
       "        font-size: 18pt;\n",
       "        line-height: 100%;\n",
       "        color:#b44ff7;\n",
       "        #margin-bottom: 0.5em;\n",
       "        #margin-top: 2em;\n",
       "        display: block;\n",
       "        white-space: wrap;\n",
       "        text-align: left;\n",
       "    }\n",
       "    h4 {\n",
       "        font-family: 'Open sans',verdana,arial,sans-serif;\n",
       "    }\n",
       "    .text_cell_render h4 {\n",
       "        font-weight: 100;\n",
       "        font-size: 14pt;\n",
       "        color:#d77c0c;\n",
       "        #margin-bottom: 0.5em;\n",
       "        #margin-top: 0.5em;\n",
       "        display: block;\n",
       "        white-space: nowrap;\n",
       "    }\n",
       "    h5 {\n",
       "        font-family: 'Open sans',verdana,arial,sans-serif;\n",
       "    }\n",
       "\n",
       "    .text_cell_render h5 {\n",
       "        font-weight: 200;\n",
       "        font-style: normal;\n",
       "        color: #1d3b84;\n",
       "        font-size: 16pt;\n",
       "        #margin-bottom: 0em;\n",
       "        #margin-top: 0.5em;\n",
       "        display: block;\n",
       "        white-space: nowrap;\n",
       "    }\n",
       "    div.output_subarea.output_text.output_pyout {\n",
       "        overflow-x: auto;\n",
       "        overflow-y: visible;\n",
       "        max-height: 5000000px;\n",
       "    }\n",
       "    div.output_subarea.output_stream.output_stdout.output_text {\n",
       "        overflow-x: auto;\n",
       "        overflow-y: visible;\n",
       "        max-height: 5000000px;\n",
       "    }\n",
       "    div.output_wrapper{\n",
       "        #margin-top:0.2em;\n",
       "        #margin-bottom:0.2em;\n",
       "}\n",
       "\n",
       "    code{\n",
       "        font-size: 12pt;\n",
       "\n",
       "    }\n",
       "    .rendered_html code{\n",
       "    background-color: transparent;\n",
       "    }\n",
       "    ul{\n",
       "        #margin: 2em;\n",
       "    }\n",
       "    ul li{\n",
       "        #padding-left: 0.5em;\n",
       "        #margin-bottom: 0.5em;\n",
       "        #margin-top: 0.5em;\n",
       "    }\n",
       "    ul li li{\n",
       "        #padding-left: 0.2em;\n",
       "        #margin-bottom: 0.2em;\n",
       "        #margin-top: 0.2em;\n",
       "    }\n",
       "    ol{\n",
       "        #margin: 2em;\n",
       "    }\n",
       "    ol li{\n",
       "        #padding-left: 0.5em;\n",
       "        #margin-bottom: 0.5em;\n",
       "        #margin-top: 0.5em;\n",
       "    }\n",
       "    ul li{\n",
       "        #padding-left: 0.5em;\n",
       "        #margin-bottom: 0.5em;\n",
       "        #margin-top: 0.2em;\n",
       "    }\n",
       "    a:link{\n",
       "       color:#447adb;\n",
       "    }\n",
       "    a:visited{\n",
       "       color: #1d3b84;\n",
       "    }\n",
       "    a:hover{\n",
       "       color: #1d3b84;\n",
       "    }\n",
       "    a:focus{\n",
       "       color:#447adb;\n",
       "    }\n",
       "    a:active{\n",
       "       font-weight: bold;\n",
       "       color:#447adb;\n",
       "    }\n",
       "    .rendered_html :link {\n",
       "       text-decoration: underline;\n",
       "    }\n",
       "    .rendered_html :hover {\n",
       "       text-decoration: none;\n",
       "    }\n",
       "    .rendered_html :visited {\n",
       "      text-decoration: none;\n",
       "    }\n",
       "    .rendered_html :focus {\n",
       "      text-decoration: none;\n",
       "    }\n",
       "    .rendered_html :active {\n",
       "      text-decoration: none;\n",
       "    }\n",
       "    .warning{\n",
       "        color: rgb( 240, 20, 20 )\n",
       "    }\n",
       "    hr {\n",
       "      color: #f3f3f3;\n",
       "      background-color: #f3f3f3;\n",
       "      height: 1px;\n",
       "    }\n",
       "    blockquote{\n",
       "      display:block;\n",
       "      background: #fcfcfc;\n",
       "      border-left: 5px solid #c76c0c;\n",
       "      font-family: 'Open sans',verdana,arial,sans-serif;\n",
       "      width:680px;\n",
       "      #padding: 10px 10px 10px 10px;\n",
       "      text-align:justify;\n",
       "      text-justify:inter-word;\n",
       "      }\n",
       "      blockquote p {\n",
       "        margin-bottom: 0;\n",
       "        line-height: 125%;\n",
       "        font-size: 100%;\n",
       "      }\n",
       "</style>\n",
       "<script>\n",
       "    MathJax.Hub.Config({\n",
       "                        TeX: {\n",
       "                           extensions: [\"AMSmath.js\"],\n",
       "                           equationNumbers: { autoNumber: \"AMS\", useLabelIds: true}\n",
       "                           },\n",
       "                tex2jax: {\n",
       "                    inlineMath: [ ['$','$'], [\"\\\\(\",\"\\\\)\"] ],\n",
       "                    displayMath: [ ['$$','$$'], [\"\\\\[\",\"\\\\]\"] ]\n",
       "                },\n",
       "                displayAlign: 'center', // Change this to 'center' to center equations.\n",
       "                \"HTML-CSS\": {\n",
       "                    scale:95,\n",
       "                        availableFonts: [],\n",
       "                        preferredFont:null,\n",
       "                        webFont: \"TeX\",\n",
       "                    styles: {'.MathJax_Display': {\"margin\": 4}}\n",
       "                }\n",
       "        });\n",
       "</script>\n"
      ],
      "text/plain": [
       "<IPython.core.display.HTML object>"
      ]
     },
     "execution_count": 1,
     "metadata": {},
     "output_type": "execute_result"
    }
   ],
   "source": [
    "%matplotlib inline\n",
    "import os\n",
    "from IPython.core.display import HTML\n",
    "def load_style(directory = '../', name='customMac.css'):  \n",
    "        styles = open(os.path.join(directory, name), 'r').read()\n",
    "        return HTML(styles)\n",
    "load_style()"
   ]
  },
  {
   "cell_type": "markdown",
   "metadata": {},
   "source": [
    "## Histogram based estimation"
   ]
  },
  {
   "cell_type": "code",
   "execution_count": 2,
   "metadata": {},
   "outputs": [],
   "source": [
    "%matplotlib inline\n",
    "import numpy as np\n",
    "from matplotlib import pyplot as plt\n",
    "from matplotlib import rc\n",
    "import math\n",
    "import matplotlib.pylab as pylab\n",
    "\n",
    "params = {'legend.fontsize': 'x-large',\n",
    "          'figure.figsize': (9,6),\n",
    "         'axes.labelsize': 18,\n",
    "         'axes.titlesize':18,\n",
    "         'xtick.labelsize':18,\n",
    "         'ytick.labelsize':18}\n",
    "pylab.rcParams.update(params)\n",
    "plt.rcParams.update({'font.size': 14})\n",
    "rc('text', usetex=True)"
   ]
  },
  {
   "cell_type": "markdown",
   "metadata": {},
   "source": [
    "### Define the distribution with known parameters"
   ]
  },
  {
   "cell_type": "code",
   "execution_count": 3,
   "metadata": {},
   "outputs": [],
   "source": [
    "def pdf(x, mu, sigma):\n",
    "    \"\"\"\n",
    "    Calculates the normal distribution's probability density \n",
    "    function (PDF).     \n",
    "    \"\"\"\n",
    "    term1 = 1.0 / ( math.sqrt(2*np.pi) * sigma )\n",
    "    term2 = np.exp( -0.5 * ( (x-mu)/sigma )**2 )\n",
    "    return term1*term2"
   ]
  },
  {
   "cell_type": "code",
   "execution_count": 4,
   "metadata": {},
   "outputs": [],
   "source": [
    "# generating some sample data\n",
    "x1 = np.arange(-10, 10, 0.1)\n",
    "\n",
    "# probability density functions\n",
    "pdf1 = pdf(x1, mu=0, sigma=2)"
   ]
  },
  {
   "cell_type": "code",
   "execution_count": 5,
   "metadata": {},
   "outputs": [
    {
     "data": {
      "image/png": "[encoded data removed]",
      "text/plain": [
       "<Figure size 648x432 with 1 Axes>"
      ]
     },
     "metadata": {
      "needs_background": "light"
     },
     "output_type": "display_data"
    }
   ],
   "source": [
    "# Class conditional densities (likelihoods)\n",
    "plt.plot(x1, pdf1)\n",
    "plt.ylabel('$p(x/\\omega_i)$',fontsize=1)\n",
    "plt.xlabel('random variable $x$',fontsize=20)\n",
    "plt.xlim([-10,10])\n",
    "#plt.savefig('classProb.pdf') \n",
    "plt.show()"
   ]
  },
  {
   "cell_type": "markdown",
   "metadata": {},
   "source": [
    "### Estimate the distribution using the data samples without any knowledge of parameters"
   ]
  },
  {
   "cell_type": "code",
   "execution_count": 6,
   "metadata": {},
   "outputs": [],
   "source": [
    "# Parameters\n",
    "mu = 0\n",
    "sigma = 2\n",
    "\n",
    "# Generating 500 random samples drawn from a Normal Distribution\n",
    "x = sigma * np.random.randn(1000) + mu"
   ]
  },
  {
   "cell_type": "code",
   "execution_count": 7,
   "metadata": {},
   "outputs": [
    {
     "data": {
      "image/png": "[encoded data removed]",
      "text/plain": [
       "<Figure size 648x432 with 1 Axes>"
      ]
     },
     "metadata": {
      "needs_background": "light"
     },
     "output_type": "display_data"
    }
   ],
   "source": [
    "_ = plt.hist(x, bins=24,density=True)  # arguments are passed to np.histogram\n",
    "plt.plot(x1, pdf1)\n",
    "plt.ylabel('$p(x/\\omega_i)$',fontsize=1)\n",
    "plt.xlabel('random variable $x$',fontsize=20)\n",
    "plt.xlim([-10,10])\n",
    "plt.show()"
   ]
  },
  {
   "cell_type": "code",
   "execution_count": 8,
   "metadata": {},
   "outputs": [
    {
     "data": {
      "image/png": "[encoded data removed]",
      "text/plain": [
       "<Figure size 648x432 with 4 Axes>"
      ]
     },
     "metadata": {
      "needs_background": "light"
     },
     "output_type": "display_data"
    }
   ],
   "source": [
    "pylab.rcParams.update(params)\n",
    "plt.rcParams.update({'font.size': 10})\n",
    "rc('text', usetex=True)\n",
    "\n",
    "plt.subplot(221)\n",
    "plt.plot(x1, pdf1)\n",
    "plt.xlabel('$x$')\n",
    "plt.ylabel('$p(x)$')\n",
    "plt.xlim([-10,10])\n",
    "\n",
    "plt.subplot(222)\n",
    "plt.hist(x, bins=3,density=True)  # arguments are passed to np.histogram\n",
    "plt.plot(x1, pdf1)\n",
    "plt.xlabel('$x$')\n",
    "plt.xlim([-10,10])\n",
    "\n",
    "plt.subplot(223)\n",
    "plt.hist(x, bins=6,density=True)  # arguments are passed to np.histogram\n",
    "plt.plot(x1, pdf1)\n",
    "plt.xlabel('$x$')\n",
    "plt.ylabel('$p(x)$')\n",
    "plt.xlim([-10,10])\n",
    "\n",
    "plt.subplot(224)\n",
    "plt.hist(x, bins=24,density=True)  # arguments are passed to np.histogram\n",
    "plt.plot(x1, pdf1)\n",
    "plt.xlabel('$x$')\n",
    "plt.xlim([-10,10])\n",
    "\n",
    "plt.savefig('outputs/binHist.pdf')"
   ]
  },
  {
   "cell_type": "code",
   "execution_count": 9,
   "metadata": {},
   "outputs": [],
   "source": [
    "A = [0.80, 0.91, 0.93, 0.95, 1.32, 1.53, 1.57, 1.63, 1.67, 1.74,\n",
    "     2.01, 2.18, 2.27, 2.31, 2.40, 2.61, 2.64, 2.64, 2.67, 2.85,\n",
    "     2.96, 2.97, 3.17, 3.17, 3.38, 3.67, 3.73, 3.83, 3.99, 4.06,\n",
    "     4.10, 4.12, 4.18, 4.20, 4.23, 4.27, 4.27, 4.39, 4.40, 4.46,\n",
    "     4.47, 4.61, 4.64, 4.89, 4.96, 5.12, 5.15, 5.33, 5.33, 5.47,\n",
    "     5.64, 5.85, 5.99, 6.29, 6.42, 6.53, 6.70, 6.78, 7.18, 7.22]\n",
    "\n",
    "B = [3.54, 3.88, 4.24, 4.30, 4.30, 4.70, 4.75, 4.97, 5.21, 5.42,\n",
    "     5.60, 5.77, 5.87, 5.94, 5.95, 6.04, 6.05, 6.15, 6.19, 6.21,\n",
    "     6.33, 6.41, 6.43, 6.49, 6.52, 6.58, 6.60, 6.63, 6.65, 6.75,\n",
    "     6.90, 6.92, 7.03, 7.08, 7.18, 7.29, 7.33, 7.41, 7.41, 7.46,\n",
    "     7.61, 7.67, 7.68, 7.68, 7.78, 7.96, 8.03, 8.12, 8.20, 8.22,\n",
    "     8.33, 8.36, 8.44, 8.45, 8.49, 8.75, 8.76, 9.14, 9.20, 9.86]"
   ]
  },
  {
   "cell_type": "code",
   "execution_count": 10,
   "metadata": {},
   "outputs": [
    {
     "name": "stdout",
     "output_type": "stream",
     "text": [
      "[ 4  6 12  7 16  8  5  2  0  0]\n",
      "[ 0  0  0  2  6  7 17 14 11  3]\n"
     ]
    },
    {
     "data": {
      "image/png": "[encoded data removed]",
      "text/plain": [
       "<Figure size 1080x324 with 2 Axes>"
      ]
     },
     "metadata": {
      "needs_background": "light"
     },
     "output_type": "display_data"
    }
   ],
   "source": [
    "histA,bins = np.histogram(A,bins=[0, 1, 2, 3,4,5,6,7,8,9,10],density=False) \n",
    "print(histA)\n",
    "histB,bins = np.histogram(B,bins=[0, 1, 2, 3,4,5,6,7,8,9,10],density=False) \n",
    "print(histB)\n",
    "\n",
    "plt.figure(figsize=(15,4.5))\n",
    "pylab.rcParams.update(params)\n",
    "plt.rcParams.update({'font.size': 10})\n",
    "rc('text', usetex=True)\n",
    "\n",
    "plt.subplot(121)\n",
    "plt.bar(bins[:-1], histA)\n",
    "plt.xlabel('$x$')\n",
    "plt.ylabel('Frequency of Class A')\n",
    "plt.xlim([-0.5,10.5])\n",
    "\n",
    "plt.subplot(122)\n",
    "plt.bar(bins[:-1], histB)\n",
    "plt.xlabel('$x$')\n",
    "plt.ylabel('Frequency of Class A')\n",
    "plt.xlim([-0.5,10.5])\n",
    "\n",
    "plt.savefig('outputs/binHist01.pdf')"
   ]
  },
  {
   "cell_type": "code",
   "execution_count": 11,
   "metadata": {},
   "outputs": [
    {
     "name": "stdout",
     "output_type": "stream",
     "text": [
      "[0.06666667 0.1        0.2        0.11666667 0.26666667 0.13333333\n",
      " 0.08333333 0.03333333 0.         0.        ]\n",
      "[0.         0.         0.         0.03333333 0.1        0.11666667\n",
      " 0.28333333 0.23333333 0.18333333 0.05      ]\n"
     ]
    },
    {
     "data": {
      "image/png": "[encoded data removed]",
      "text/plain": [
       "<Figure size 1080x324 with 2 Axes>"
      ]
     },
     "metadata": {
      "needs_background": "light"
     },
     "output_type": "display_data"
    }
   ],
   "source": [
    "histA,bins = np.histogram(A,bins=[0, 1, 2, 3,4,5,6,7,8,9,10],density=True) \n",
    "print(histA)\n",
    "histB,bins = np.histogram(B,bins=[0, 1, 2, 3,4,5,6,7,8,9,10],density=True) \n",
    "print(histB)\n",
    "\n",
    "plt.figure(figsize=(15,4.5))\n",
    "pylab.rcParams.update(params)\n",
    "plt.rcParams.update({'font.size': 10})\n",
    "rc('text', usetex=True)\n",
    "\n",
    "plt.subplot(121)\n",
    "plt.bar(bins[:-1], histA)\n",
    "plt.xlabel('$x$')\n",
    "plt.ylabel('$p(x|\\omega_1)$')\n",
    "plt.xlim([-0.5,10.5])\n",
    "\n",
    "plt.subplot(122)\n",
    "plt.bar(bins[:-1], histB)\n",
    "plt.xlabel('$x$')\n",
    "plt.ylabel('$p(x|\\omega_2)$')\n",
    "plt.xlim([-0.5,10.5])\n",
    "\n",
    "plt.savefig('outputs/binHist02.pdf')"
   ]
  },
  {
   "cell_type": "code",
   "execution_count": 68,
   "metadata": {},
   "outputs": [
    {
     "data": {
      "text/plain": [
       "array([0, 1, 2, 3, 4, 5, 6, 7, 8])"
      ]
     },
     "execution_count": 68,
     "metadata": {},
     "output_type": "execute_result"
    }
   ],
   "source": [
    "bins[:-2]"
   ]
  },
  {
   "cell_type": "code",
   "execution_count": 47,
   "metadata": {},
   "outputs": [],
   "source": [
    "nSamples = len(A)\n",
    "nBins = int(math.sqrt(nSamples))+1\n",
    "\n",
    "histA = np.histogram(A,bins=nBins,density=True)\n",
    "histB = np.histogram(B,bins=nBins,density=True)\n",
    "xd = 7.5\n",
    "res = next(x for x, val in enumerate(histB[1]) if val > xd)"
   ]
  },
  {
   "cell_type": "code",
   "execution_count": 49,
   "metadata": {},
   "outputs": [],
   "source": [
    " "
   ]
  },
  {
   "cell_type": "code",
   "execution_count": 50,
   "metadata": {},
   "outputs": [
    {
     "name": "stdout",
     "output_type": "stream",
     "text": [
      "5\n"
     ]
    }
   ],
   "source": [
    "print(res-1)"
   ]
  },
  {
   "cell_type": "code",
   "execution_count": 51,
   "metadata": {},
   "outputs": [],
   "source": [
    "PosteriorProbB = histB[0][res-1]\n"
   ]
  },
  {
   "cell_type": "code",
   "execution_count": 52,
   "metadata": {},
   "outputs": [
    {
     "name": "stdout",
     "output_type": "stream",
     "text": [
      "0.21097046413502132\n"
     ]
    }
   ],
   "source": [
    "print(PosteriorProbB)"
   ]
  },
  {
   "cell_type": "code",
   "execution_count": null,
   "metadata": {},
   "outputs": [],
   "source": []
  }
 ],
 "metadata": {
  "kernelspec": {
   "display_name": "Python 3",
   "language": "python",
   "name": "python3"
  },
  "language_info": {
   "codemirror_mode": {
    "name": "ipython",
    "version": 3
   },
   "file_extension": ".py",
   "mimetype": "text/x-python",
   "name": "python",
   "nbconvert_exporter": "python",
   "pygments_lexer": "ipython3",
   "version": "3.6.10"
  },
  "toc": {
   "base_numbering": 1,
   "nav_menu": {},
   "number_sections": true,
   "sideBar": true,
   "skip_h1_title": true,
   "title_cell": "Table of Contents",
   "title_sidebar": "Contents",
   "toc_cell": true,
   "toc_position": {},
   "toc_section_display": true,
   "toc_window_display": false
  }
 },
 "nbformat": 4,
 "nbformat_minor": 2
}

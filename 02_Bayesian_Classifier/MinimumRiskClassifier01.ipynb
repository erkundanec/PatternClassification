{
 "cells": [
  {
   "cell_type": "markdown",
   "metadata": {
    "toc": true
   },
   "source": [
    "<h1>Table of Contents<span class=\"tocSkip\"></span></h1>\n",
    "<div class=\"toc\"><ul class=\"toc-item\"><li><span><a href=\"#Problem-Category\" data-toc-modified-id=\"Problem-Category-1\"><span class=\"toc-item-num\">1&nbsp;&nbsp;</span>Problem Category</a></span></li><li><span><a href=\"#Given-information:\" data-toc-modified-id=\"Given-information:-2\"><span class=\"toc-item-num\">2&nbsp;&nbsp;</span>Given information:</a></span><ul class=\"toc-item\"><li><span><a href=\"#Model:-continuous-univariate-normal-(Gaussian)-model-for-the-class-conditional-densities\" data-toc-modified-id=\"Model:-continuous-univariate-normal-(Gaussian)-model-for-the-class-conditional-densities-2.1\"><span class=\"toc-item-num\">2.1&nbsp;&nbsp;</span>Model: continuous univariate normal (Gaussian) model for the class-conditional densities</a></span><ul class=\"toc-item\"><li><span><a href=\"#Prior-probabilities:\" data-toc-modified-id=\"Prior-probabilities:-2.1.1\"><span class=\"toc-item-num\">2.1.1&nbsp;&nbsp;</span>Prior probabilities:</a></span></li><li><span><a href=\"#Variances-of-the-sample-distributions\" data-toc-modified-id=\"Variances-of-the-sample-distributions-2.1.2\"><span class=\"toc-item-num\">2.1.2&nbsp;&nbsp;</span>Variances of the sample distributions</a></span></li><li><span><a href=\"#Means-of-the-sample-distributions\" data-toc-modified-id=\"Means-of-the-sample-distributions-2.1.3\"><span class=\"toc-item-num\">2.1.3&nbsp;&nbsp;</span>Means of the sample distributions</a></span></li><li><span><a href=\"#Loss-functions:\" data-toc-modified-id=\"Loss-functions:-2.1.4\"><span class=\"toc-item-num\">2.1.4&nbsp;&nbsp;</span>Loss functions:</a></span></li></ul></li></ul></li><li><span><a href=\"#Deriving-the-decision-boundary\" data-toc-modified-id=\"Deriving-the-decision-boundary-3\"><span class=\"toc-item-num\">3&nbsp;&nbsp;</span>Deriving the decision boundary</a></span><ul class=\"toc-item\"><li><span><a href=\"#Bayes'-Rule:\" data-toc-modified-id=\"Bayes'-Rule:-3.1\"><span class=\"toc-item-num\">3.1&nbsp;&nbsp;</span>Bayes' Rule:</a></span></li><li><span><a href=\"#Risk-Functions:\" data-toc-modified-id=\"Risk-Functions:-3.2\"><span class=\"toc-item-num\">3.2&nbsp;&nbsp;</span>Risk Functions:</a></span></li><li><span><a href=\"#Discriminant-Functions:\" data-toc-modified-id=\"Discriminant-Functions:-3.3\"><span class=\"toc-item-num\">3.3&nbsp;&nbsp;</span>Discriminant Functions:</a></span></li><li><span><a href=\"#Decision-boundary\" data-toc-modified-id=\"Decision-boundary-3.4\"><span class=\"toc-item-num\">3.4&nbsp;&nbsp;</span>Decision boundary</a></span></li><li><span><a href=\"#Decision-Boundary\" data-toc-modified-id=\"Decision-Boundary-3.5\"><span class=\"toc-item-num\">3.5&nbsp;&nbsp;</span>Decision Boundary</a></span></li></ul></li><li><span><a href=\"#Classifying-some-random-example-data\" data-toc-modified-id=\"Classifying-some-random-example-data-4\"><span class=\"toc-item-num\">4&nbsp;&nbsp;</span>Classifying some random example data</a></span></li><li><span><a href=\"#Classifying-some-random-example-data\" data-toc-modified-id=\"Classifying-some-random-example-data-5\"><span class=\"toc-item-num\">5&nbsp;&nbsp;</span>Classifying some random example data</a></span></li><li><span><a href=\"#Calculating-the-empirical-error-rate\" data-toc-modified-id=\"Calculating-the-empirical-error-rate-6\"><span class=\"toc-item-num\">6&nbsp;&nbsp;</span>Calculating the empirical error rate</a></span></li></ul></div>"
   ]
  },
  {
   "cell_type": "code",
   "execution_count": 1,
   "metadata": {},
   "outputs": [
    {
     "data": {
      "text/html": [
       "<style>\n",
       "@import url('http://fonts.googleapis.com/css?family=Source+Code+Pro');\n",
       "@import url('http://fonts.googleapis.com/css?family=Lora');\n",
       "\n",
       ".CodeMirror pre, .CodeMirror-dialog, .CodeMirror-dialog .CodeMirror-search-field, .terminal-app .terminal {\n",
       "    font-family: YOUR-FAV-FONT;\n",
       "    font-size: 16pt;\n",
       "}\n",
       "\n",
       ".CodeMirror pre {\n",
       "    font-family: \"Ubuntu\", monospace;\n",
       "}\n",
       "    div.cell{\n",
       "        width: 950px;\n",
       "        #margin-left: 0% !important;\n",
       "        #margin-right: auto;\n",
       "    }\n",
       "    div.text_cell_render{\n",
       "        font-family: \"Ubuntu\";\n",
       "        line-height: 115%;\n",
       "        font-size: 140%;\n",
       "        text-align: justify;\n",
       "        text-justify:inter-word;\n",
       "    }\n",
       "    div.text_cell code {\n",
       "        background: transparent;\n",
       "        color: #000000;\n",
       "        font-weight: 400;\n",
       "        font-size: 12pt;\n",
       "        font-family:  'Source Code Pro', Consolas, monocco, monospace;\n",
       "   }\n",
       "    h1 {\n",
       "        font-family: \"Ubuntu\";\n",
       "\t}\n",
       "\n",
       "    div.input_area {\n",
       "        background: #F6F6F9;\n",
       "        border: 1px solid #586e75;\n",
       "    }\n",
       "\n",
       "    .text_cell_render h1 {\n",
       "        font-weight: 200;\n",
       "        font-size: 30pt;\n",
       "\t#font-style: italic;\n",
       "        line-height: 100%;\n",
       "        color:#1f499c;\n",
       "        #margin-bottom: 0.1em;\n",
       "        #margin-top: 0.1em;\n",
       "        display: block;\n",
       "        #white-space: wrap;\n",
       "        text-align: left;\n",
       "    }\n",
       "    h2 {\n",
       "\tfont-family: \"Ubuntu\";\n",
       "        #font-family: 'Open sans',verdana,arial,sans-serif;\n",
       "        text-align: left;\n",
       "    }\n",
       "    .text_cell_render h2 {\n",
       "        font-weight: 200;\n",
       "        font-size: 24pt;\n",
       "        #font-style: italic;\n",
       "        #line-height: 100%;\n",
       "        color:#54ad1c;\n",
       "        #margin-bottom: 0.1em;\n",
       "        #margin-top: 0.1em;\n",
       "        display: block;\n",
       "        white-space: wrap;\n",
       "        text-align: left;\n",
       "    }\n",
       "    h3 {\n",
       "        font-family: \"Ubuntu\";\n",
       "    }\n",
       "    .text_cell_render h3 {\n",
       "        font-weight: 200;\n",
       "        font-size: 18pt;\n",
       "        line-height: 100%;\n",
       "        color:#b44ff7;\n",
       "        #margin-bottom: 0.5em;\n",
       "        #margin-top: 2em;\n",
       "        display: block;\n",
       "        white-space: wrap;\n",
       "        text-align: left;\n",
       "    }\n",
       "    h4 {\n",
       "        font-family: 'Open sans',verdana,arial,sans-serif;\n",
       "    }\n",
       "    .text_cell_render h4 {\n",
       "        font-weight: 100;\n",
       "        font-size: 14pt;\n",
       "        color:#d77c0c;\n",
       "        #margin-bottom: 0.5em;\n",
       "        #margin-top: 0.5em;\n",
       "        display: block;\n",
       "        white-space: nowrap;\n",
       "    }\n",
       "    h5 {\n",
       "        font-family: 'Open sans',verdana,arial,sans-serif;\n",
       "    }\n",
       "\n",
       "    .text_cell_render h5 {\n",
       "        font-weight: 200;\n",
       "        font-style: normal;\n",
       "        color: #1d3b84;\n",
       "        font-size: 16pt;\n",
       "        #margin-bottom: 0em;\n",
       "        #margin-top: 0.5em;\n",
       "        display: block;\n",
       "        white-space: nowrap;\n",
       "    }\n",
       "    div.output_subarea.output_text.output_pyout {\n",
       "        overflow-x: auto;\n",
       "        overflow-y: visible;\n",
       "        max-height: 5000000px;\n",
       "    }\n",
       "    div.output_subarea.output_stream.output_stdout.output_text {\n",
       "        overflow-x: auto;\n",
       "        overflow-y: visible;\n",
       "        max-height: 5000000px;\n",
       "    }\n",
       "    div.output_wrapper{\n",
       "        #margin-top:0.2em;\n",
       "        #margin-bottom:0.2em;\n",
       "}\n",
       "\n",
       "    code{\n",
       "        font-size: 12pt;\n",
       "\n",
       "    }\n",
       "    .rendered_html code{\n",
       "    background-color: transparent;\n",
       "    }\n",
       "    ul{\n",
       "        #margin: 2em;\n",
       "    }\n",
       "    ul li{\n",
       "        #padding-left: 0.5em;\n",
       "        #margin-bottom: 0.5em;\n",
       "        #margin-top: 0.5em;\n",
       "    }\n",
       "    ul li li{\n",
       "        #padding-left: 0.2em;\n",
       "        #margin-bottom: 0.2em;\n",
       "        #margin-top: 0.2em;\n",
       "    }\n",
       "    ol{\n",
       "        #margin: 2em;\n",
       "    }\n",
       "    ol li{\n",
       "        #padding-left: 0.5em;\n",
       "        #margin-bottom: 0.5em;\n",
       "        #margin-top: 0.5em;\n",
       "    }\n",
       "    ul li{\n",
       "        #padding-left: 0.5em;\n",
       "        #margin-bottom: 0.5em;\n",
       "        #margin-top: 0.2em;\n",
       "    }\n",
       "    a:link{\n",
       "       color:#447adb;\n",
       "    }\n",
       "    a:visited{\n",
       "       color: #1d3b84;\n",
       "    }\n",
       "    a:hover{\n",
       "       color: #1d3b84;\n",
       "    }\n",
       "    a:focus{\n",
       "       color:#447adb;\n",
       "    }\n",
       "    a:active{\n",
       "       font-weight: bold;\n",
       "       color:#447adb;\n",
       "    }\n",
       "    .rendered_html :link {\n",
       "       text-decoration: underline;\n",
       "    }\n",
       "    .rendered_html :hover {\n",
       "       text-decoration: none;\n",
       "    }\n",
       "    .rendered_html :visited {\n",
       "      text-decoration: none;\n",
       "    }\n",
       "    .rendered_html :focus {\n",
       "      text-decoration: none;\n",
       "    }\n",
       "    .rendered_html :active {\n",
       "      text-decoration: none;\n",
       "    }\n",
       "    .warning{\n",
       "        color: rgb( 240, 20, 20 )\n",
       "    }\n",
       "    hr {\n",
       "      color: #f3f3f3;\n",
       "      background-color: #f3f3f3;\n",
       "      height: 1px;\n",
       "    }\n",
       "    blockquote{\n",
       "      display:block;\n",
       "      background: #fcfcfc;\n",
       "      border-left: 5px solid #c76c0c;\n",
       "      font-family: 'Open sans',verdana,arial,sans-serif;\n",
       "      width:680px;\n",
       "      #padding: 10px 10px 10px 10px;\n",
       "      text-align:justify;\n",
       "      text-justify:inter-word;\n",
       "      }\n",
       "      blockquote p {\n",
       "        margin-bottom: 0;\n",
       "        line-height: 125%;\n",
       "        font-size: 100%;\n",
       "      }\n",
       "</style>\n",
       "<script>\n",
       "    MathJax.Hub.Config({\n",
       "                        TeX: {\n",
       "                           extensions: [\"AMSmath.js\"],\n",
       "                           equationNumbers: { autoNumber: \"AMS\", useLabelIds: true}\n",
       "                           },\n",
       "                tex2jax: {\n",
       "                    inlineMath: [ ['$','$'], [\"\\\\(\",\"\\\\)\"] ],\n",
       "                    displayMath: [ ['$$','$$'], [\"\\\\[\",\"\\\\]\"] ]\n",
       "                },\n",
       "                displayAlign: 'center', // Change this to 'center' to center equations.\n",
       "                \"HTML-CSS\": {\n",
       "                    scale:95,\n",
       "                        availableFonts: [],\n",
       "                        preferredFont:null,\n",
       "                        webFont: \"TeX\",\n",
       "                    styles: {'.MathJax_Display': {\"margin\": 4}}\n",
       "                }\n",
       "        });\n",
       "</script>\n"
      ],
      "text/plain": [
       "<IPython.core.display.HTML object>"
      ]
     },
     "execution_count": 1,
     "metadata": {},
     "output_type": "execute_result"
    }
   ],
   "source": [
    "%matplotlib inline\n",
    "import os\n",
    "from IPython.core.display import HTML\n",
    "def load_style(directory = '../', name='customMac.css'):  \n",
    "        styles = open(os.path.join(directory, name), 'r').read()\n",
    "        return HTML(styles)\n",
    "load_style()"
   ]
  },
  {
   "cell_type": "code",
   "execution_count": 2,
   "metadata": {},
   "outputs": [],
   "source": [
    "#======= set default plotting properties =======\n",
    "import matplotlib as mpl\n",
    "from matplotlib import pyplot as plt\n",
    "mpl.rcParams['lines.linewidth'] = 1\n",
    "mpl.rcParams['font.size'] = 14\n",
    "mpl.rcParams['font.family'] = 'serif'\n",
    "mpl.rcParams['font.sans-serif'] = 'Computer Modern Roman'\n",
    "mpl.rcParams['lines.color'] = 'b'\n",
    "plt.rcParams['figure.figsize'] = 7, 4.5 # default figure size"
   ]
  },
  {
   "cell_type": "markdown",
   "metadata": {},
   "source": [
    "## Problem Category\n",
    "- Statistical Pattern Recognition   \n",
    "- Supervised Learning  \n",
    "- Parametric Learning  \n",
    "- Bayes Decision Theory  \n",
    "- 1-dimensional\n",
    "- 2-class problem\n",
    "- Same variances\n",
    "- different prior probabilities\n",
    "- Gaussian model (2 parameters)\n",
    "- with conditional Risk (1-0 loss functions)"
   ]
  },
  {
   "cell_type": "markdown",
   "metadata": {},
   "source": [
    "## Given information:"
   ]
  },
  {
   "cell_type": "markdown",
   "metadata": {},
   "source": [
    "### Model: continuous univariate normal (Gaussian) model for the class-conditional densities\n",
    " \n",
    "$$ p(x | \\omega_j) \\sim N(\\mu_j,\\sigma_j^2) $$\n",
    "​\n",
    "$$ p(x | \\omega_j) \\sim \\frac{1}{\\sqrt{2\\pi}\\sigma_j} \\exp{ \\bigg[-\\frac{1}{2}\\bigg( \\frac{x-\\mu_j}{\\sigma_j}\\bigg)^2 \\bigg] } $$\n",
    "​\n",
    "#### Prior probabilities:\n",
    "​\n",
    "$ P(\\omega_1) = \\frac{1}{4}, \\quad P(\\omega_2) = \\frac{3}{4}, \\quad  p(x | \\omega_1) \\sim N(0,1), \\quad  p(x | \\omega_2) \\sim N(1,1)$\n",
    "​\n",
    "#### Variances of the sample distributions\n",
    "​\n",
    "$ \\sigma_1^2 = \\sigma_2^2 = 1 $\n",
    "​\n",
    "#### Means of the sample distributions\n",
    "​\n",
    "$ \\mu_1 = 0, \\quad \\mu_2 = 1 $\n",
    "\n",
    "#### Loss functions:\n",
    "\n",
    "where \n",
    "\n",
    "$ \\lambda(\\alpha_i|\\omega_j) = \\lambda_{ij}$,  \n",
    "\n",
    "the loss occured if $action_i$ is taken if the actual true class is $ \\omega_j$ (assuming that $action_i$ classifies sample as $\\omega_i$)\n",
    "\n",
    "\\begin{equation}\n",
    "\\lambda = \\begin{pmatrix}\n",
    "\\lambda_{11} \\quad \\lambda_{12} \\\\\n",
    "\\lambda_{21} \\quad \\lambda_{22}\n",
    "\\end{pmatrix}\n",
    "= \\begin{pmatrix}\n",
    "0 \\quad 1 \\\\\n",
    "0.5 \\quad 0 \\\\\n",
    "\\end{pmatrix}\\\\\n",
    "\\end{equation}"
   ]
  },
  {
   "cell_type": "markdown",
   "metadata": {},
   "source": [
    "## Deriving the decision boundary\n",
    "### Bayes' Rule:\n",
    "\n",
    "$$ P(\\omega_j|x) = \\frac{p(x|\\omega_j) * P(\\omega_j)}{p(x)}$$\n"
   ]
  },
  {
   "cell_type": "markdown",
   "metadata": {},
   "source": [
    "### Risk Functions:\n",
    "\n",
    "$ R(\\alpha_1|{x}) = \\lambda_{11}P(\\omega_1|{x}) + \\lambda_{12}P(\\omega_2|{x}) $\n",
    "\n",
    "$ R(\\alpha_2|{x}) = \\lambda_{21}P(\\omega_1|{x}) + \\lambda_{22}P(\\omega_2|{x}) $\n",
    "\n",
    "with given loss function:\n",
    "\n",
    "$ R(\\alpha_1| {x}) = P(\\omega_2|{x})  $\n",
    "\n",
    "$ R(\\alpha_2|{x}) = 0.5\\cdot P(\\omega_1|{x}) $"
   ]
  },
  {
   "cell_type": "markdown",
   "metadata": {},
   "source": [
    "### Discriminant Functions:\n",
    "$$g_1(x)=-P(\\omega_2|x),\\quad g_2(x)=-0.5\\cdot P(\\omega_1|x)$$\n",
    "\n",
    "### Decision boundary\n",
    "\n",
    "$$g(x)= g_1(x)-g_2(x)$$\n",
    "\n",
    "\n",
    "\n",
    "The **objective function** is to maximize the discriminant function, which we define as the posterior probability here to perform a **minimum-error classification** (Bayes classifier).\n",
    "\n",
    "$ g_1(\\pmb{x}) = P(\\omega_1 | \\; \\pmb{x}), \\quad  g_2(\\pmb{x}) = P(\\omega_2 | \\; \\pmb{x})$\n",
    "\n",
    "$ \\Rightarrow g_1(\\pmb{x}) = P(\\pmb{x}\\;|\\;\\omega_1) \\;\\cdot\\; P(\\omega_1) \\quad | \\; ln \\\\\n",
    "\\quad g_2(\\pmb{x}) = P(\\pmb{x}\\;|\\;\\omega_2) \\;\\cdot\\; P(\\omega_2) \\quad | \\; ln $\n",
    "\n",
    "<br>\n",
    "We can drop the prior probabilities (since we have equal priors in this case): \n",
    "\n",
    "$ \\Rightarrow g_1(\\pmb{x}) = ln(P(\\pmb{x}\\;|\\;\\omega_1))  \\\\\n",
    "\\quad g_2(\\pmb{x}) = ln(P(\\pmb{x}\\;|\\;\\omega_2))  $"
   ]
  },
  {
   "cell_type": "markdown",
   "metadata": {},
   "source": [
    "The equations for the general multivariate normal case with arbitrary covariance matrices (i.e., different covariance matrices for each case):"
   ]
  },
  {
   "cell_type": "markdown",
   "metadata": {},
   "source": [
    "$ \\Rightarrow g_1(\\pmb{x}) = \\pmb{x}^{\\,t} - \\frac{1}{2} \\Sigma_1^{-1} \\pmb{x} + \\bigg( \\Sigma_1^{-1} \\pmb{\\mu}_{\\,1}\\bigg)^t + \\bigg( -\\frac{1}{2} \\pmb{\\mu}_{\\,1}^{\\,t} \\Sigma_{1}^{-1} \\pmb{\\mu}_{\\,1} -\\frac{1}{2} ln(|\\Sigma_1|)\\bigg)   \\\\\n",
    "\\quad g_2(\\pmb{x}) = \\pmb{x}^{\\,t} - \\frac{1}{2} \\Sigma_2^{-1} \\pmb{x} + \\bigg( \\Sigma_2^{-1} \\pmb{\\mu}_{\\,2}\\bigg)^t + \\bigg( -\\frac{1}{2} \\pmb{\\mu}_{\\,2}^{\\,t} \\Sigma_{2}^{-1} \\pmb{\\mu}_{\\,2} -\\frac{1}{2} ln(|\\Sigma_2|)\\bigg)  $"
   ]
  },
  {
   "cell_type": "markdown",
   "metadata": {},
   "source": [
    "<hr>\n",
    "**Let:**\n",
    "\n",
    "$\\pmb{W}_{\\,i} = - \\frac{1}{2} \\Sigma_i^{-1}\\\\\n",
    "\\pmb{w}{\\,i} =   \\Sigma_i^{-1} \\pmb{\\mu}_{\\,i} \\\\\n",
    "\\omega_{i0} = \\bigg( -\\frac{1}{2} \\pmb{\\mu}_{\\,i}^{\\,t} \\Sigma_{i}^{-1} \\pmb{\\mu}_{\\,i} -\\frac{1}{2} ln(|\\Sigma_i|)\\bigg)$\n",
    "<hr>"
   ]
  },
  {
   "cell_type": "markdown",
   "metadata": {},
   "source": [
    "$ \\pmb{W}_{\\,1} = \\bigg[ \n",
    "\\begin{array}{cc}\n",
    "(1/4) & 0\\\\\n",
    "0 & (1/4) \\\\\n",
    "\\end{array} \\bigg] $\n",
    "\n",
    "$ \\pmb{w}_{\\,1} = \\bigg[ \n",
    "\\begin{array}{cc}\n",
    "(1/4) & 0\\\\\n",
    "0 & (1/4) \\\\\n",
    "\\end{array} \\bigg] \\cdot \\bigg[ \n",
    "\\begin{array}{c}\n",
    "0 \\\\\n",
    "0 \\\\\n",
    "\\end{array} \\bigg] = \\bigg[ \n",
    "\\begin{array}{c}\n",
    "0 \\\\\n",
    "0 \\\\\n",
    "\\end{array} \\bigg]$ "
   ]
  },
  {
   "cell_type": "markdown",
   "metadata": {},
   "source": [
    "$ \\omega_{10} = -\\frac{1}{2} [0 \\quad 0 ] \\bigg[ \n",
    "\\begin{array}{cc}\n",
    "(1/4) & 0\\\\\n",
    "0 & (1/4) \\\\\n",
    "\\end{array} \\bigg] \\cdot \\bigg[ \n",
    "\\begin{array}{c}\n",
    "0 \\\\\n",
    "0 \\\\\n",
    "\\end{array} \\bigg] \n",
    "- ln(2) = -ln(2)$"
   ]
  },
  {
   "cell_type": "markdown",
   "metadata": {},
   "source": [
    "$ \\pmb{W}_{\\,2} = \\bigg[ \n",
    "\\begin{array}{cc}\n",
    "(-1/2) & 0\\\\\n",
    "0 & (-1/2) \\\\\n",
    "\\end{array} \\bigg] $\n",
    "\n",
    "$ \\pmb{w}_{\\,2} = \\bigg[ \n",
    "\\begin{array}{c}\n",
    "1 \\\\\n",
    "2 \\\\\n",
    "\\end{array} \\bigg]$ "
   ]
  },
  {
   "cell_type": "markdown",
   "metadata": {},
   "source": [
    "$ \\omega_{20} = -\\frac{1}{2} [1 \\quad 2 ] \\bigg[ \n",
    "\\begin{array}{cc}\n",
    "(1/4) & 0\\\\\n",
    "0 & (1/4) \\\\\n",
    "\\end{array} \\bigg] \\cdot \\bigg[ \n",
    "\\begin{array}{c}\n",
    "1 \\\\\n",
    "2 \\\\\n",
    "\\end{array} \\bigg] \n",
    "- \\frac{1}{2}ln(1) = -2.5$"
   ]
  },
  {
   "cell_type": "markdown",
   "metadata": {},
   "source": [
    "$ \\Rightarrow g_1(\\pmb{x}) = \\pmb{x}^{\\,t} \\bigg[ \n",
    "\\begin{array}{cc}\n",
    "(1/4) & 0\\\\\n",
    "0 & (1/4) \\\\\n",
    "\\end{array} \\bigg] \n",
    "\\pmb{x} + \\bigg[\n",
    "\\begin{array}{c}\n",
    "0 \\\\\n",
    "0 \\\\\n",
    "\\end{array} \\bigg]^t \\pmb x- ln(2) = \\pmb{x}^{\\,t} - \\frac{1}{4} \\pmb{x} - ln(2)$"
   ]
  },
  {
   "cell_type": "markdown",
   "metadata": {},
   "source": [
    "$ \\Rightarrow g_2(\\pmb{x}) = \\pmb{x}^{\\,t} \\bigg[ \n",
    "\\begin{array}{cc}\n",
    "(-1/2) & 0\\\\\n",
    "0 & (-1/2) \\\\\n",
    "\\end{array} \\bigg] \n",
    "\\pmb{x} + \\bigg[\n",
    "\\begin{array}{c}\n",
    "1 \\\\\n",
    "2 \\\\\n",
    "\\end{array} \\bigg]^t \\pmb{x} -2.5 = \\pmb{x}^{\\,t} - \\frac{1}{2} \\pmb{x} + [1 \\quad 2] \\; \\pmb{x} - 2.5$"
   ]
  },
  {
   "cell_type": "markdown",
   "metadata": {},
   "source": [
    "### Decision Boundary\n",
    "\n",
    "$g_1(\\pmb{x}) = g_2(\\pmb{x}) $ \n",
    "\n",
    "$ \\Rightarrow \\pmb{x}^{\\,t} \\cdot (- \\frac{1}{4} \\pmb{x}) - ln(2) = \\pmb{x}^{\\,t} - \\frac{1}{2} \\pmb{x} + [1 \\quad 2] \\; \\pmb{x} - 2.5 \\quad \\bigg| \\; \\cdot \\; 4$\n",
    "\n",
    "$ \\Rightarrow \\pmb{x}^{\\,t} \\cdot (-  \\pmb{x}) - 4ln(2) = \\pmb{x}^{\\,t} - 2 \\pmb{x}+ 4 \\;( [1 \\quad 2] \\; \\pmb{x}) - 10 $"
   ]
  },
  {
   "cell_type": "markdown",
   "metadata": {},
   "source": [
    "$ \\Rightarrow [x_1 \\quad x_2] \\cdot \\bigg(-\\bigg[ \\begin{array}{c}\n",
    "x_1 \\\\\n",
    "x_2 \\\\\n",
    "\\end{array}\\bigg] \\bigg) -4ln(2) = [x_1 \\quad x_2] \\cdot \\bigg(-\\bigg[ \\begin{array}{c}\n",
    "2x_1 \\\\\n",
    "2x_2 \\\\\n",
    "\\end{array}\\bigg] \\bigg) + [4 \\quad 8] \\cdot \n",
    "\\bigg[ \\begin{array}{c}\n",
    "x_1 \\\\\n",
    "x_2 \\\\\n",
    "\\end{array}\\bigg] -10$"
   ]
  },
  {
   "cell_type": "markdown",
   "metadata": {},
   "source": [
    "$ \\Rightarrow -x_1^2 - x_2^2 - 4ln(2) = -2x_1^2 - 2x_2^2 + 4x_1 + 8x_2 -10 $\n",
    "\n",
    "$ \\Rightarrow x_1^2 + x_2^2 -4x_1 - 8x_2 - 4ln(2) + 10 = 0 $"
   ]
  },
  {
   "cell_type": "code",
   "execution_count": 4,
   "metadata": {},
   "outputs": [
    {
     "name": "stdout",
     "output_type": "stream",
     "text": [
      "Populating the interactive namespace from numpy and matplotlib\n"
     ]
    },
    {
     "data": {
      "image/png": "[encoded data removed]",
      "text/plain": [
       "<Figure size 432x288 with 1 Axes>"
      ]
     },
     "metadata": {
      "needs_background": "light"
     },
     "output_type": "display_data"
    }
   ],
   "source": [
    "%pylab inline\n",
    "import numpy as np\n",
    "from matplotlib import pyplot as plt\n",
    "\n",
    "def pdf(x, mu, sigma):\n",
    "    \"\"\"\n",
    "    Calculates the normal distribution's probability density \n",
    "    function (PDF).   \n",
    "    \"\"\"\n",
    "    term1 = 1.0 / ( math.sqrt(2*np.pi) * sigma )\n",
    "    term2 = np.exp( -0.5 * ( (x-mu)/sigma )**2 )\n",
    "    return term1 * term2\n",
    "\n",
    "# generating some sample data\n",
    "x = np.arange(-10, 10, 0.05)\n",
    "\n",
    "# probability density functions\n",
    "pdf1 = pdf(x, mu=0, sigma=1)\n",
    "pdf2 = pdf(x, mu=1, sigma=1)\n",
    "\n",
    "# Class conditional densities (likelihoods)\n",
    "plt.plot(x, pdf1)\n",
    "plt.plot(x, pdf2)\n",
    "plt.title('Class conditional densities (likelihoods)')\n",
    "plt.ylabel('$p(x|\\omega_i)$')\n",
    "plt.xlabel('random variable x')\n",
    "plt.legend(['$p(x|\\omega_1) \\sim  N(0,1)$', '$p(x|\\omega_2) \\sim N(1,1)$'], loc='upper right')\n",
    "plt.ylim([0,0.5])\n",
    "plt.xlim([-6,6])\n",
    "plt.show()"
   ]
  },
  {
   "cell_type": "code",
   "execution_count": 6,
   "metadata": {},
   "outputs": [
    {
     "data": {
      "image/png": "[encoded data removed]",
      "text/plain": [
       "<Figure size 432x288 with 1 Axes>"
      ]
     },
     "metadata": {
      "needs_background": "light"
     },
     "output_type": "display_data"
    }
   ],
   "source": [
    "def posterior(likelihood, prior):\n",
    "    \"\"\"\n",
    "    Calculates the posterior probability (after Bayes Rule) without\n",
    "    the scale factor p(x) (=evidence).  \n",
    "        \n",
    "    \"\"\"\n",
    "    return likelihood * prior\n",
    "\n",
    "# probability density functions\n",
    "posterior1 = posterior(pdf(x, mu=0, sigma=1), 1/4)\n",
    "posterior2 = posterior(pdf(x, mu=1, sigma=1), 3/4)\n",
    "\n",
    "# Class conditional densities (likelihoods)\n",
    "plt.plot(x, posterior1)\n",
    "plt.plot(x, posterior2)\n",
    "plt.title('Posterior Probabilities w. Decision Boundary')\n",
    "plt.ylabel('$P(\\omega_j|x)$')\n",
    "plt.xlabel('random variable x')\n",
    "plt.legend(['$P(\\omega_1|x)$', '$p(\\omega_2|x$)'], loc='upper right')\n",
    "plt.ylim([0,0.4])\n",
    "plt.xlim([-6,6])\n",
    "plt.axvline(-1.29, color='r', alpha=0.8, linestyle=':', linewidth=2)\n",
    "plt.annotate('R1', xy=(-4, 0.2), xytext=(-4, 0.2))\n",
    "plt.annotate('R2', xy=(4, 0.2), xytext=(4, 0.2))\n",
    "plt.show()"
   ]
  },
  {
   "cell_type": "markdown",
   "metadata": {},
   "source": [
    "## Classifying some random example data"
   ]
  },
  {
   "cell_type": "code",
   "execution_count": null,
   "metadata": {},
   "outputs": [],
   "source": [
    "# Parameters\n",
    "mu_1 = 0\n",
    "mu_2 = 1\n",
    "sigma_1_sqr = 1\n",
    "sigma_2_sqr = 1\n",
    "\n",
    "# Generating 10 random samples drawn from a Normal Distribution for class 1 & 2\n",
    "x1_samples = sigma_1_sqr**0.5 * np.random.randn(10) + mu_1\n",
    "x2_samples = sigma_1_sqr**0.5 * np.random.randn(10) + mu_2\n",
    "y = [0 for i in range(10)]\n",
    "\n",
    "# Plotting sample data with a decision boundary\n",
    "\n",
    "plt.scatter(x1_samples, y, marker='o', color='green', s=40, alpha=0.5)\n",
    "plt.scatter(x2_samples, y, marker='^', color='blue', s=40, alpha=0.5)\n",
    "plt.title('Classifying random example data from 2 classes')\n",
    "plt.ylabel('$P(\\omega_j|x)$')\n",
    "plt.xlabel('random variable x')\n",
    "plt.legend(['$P(\\omega_1|x)$', '$p(\\omega_2|x$)'], loc='upper right')\n",
    "plt.ylim([-0.2,0.4])\n",
    "plt.xlim([-6,6])\n",
    "plt.axvline(-0.5986, color='r', alpha=0.8, linestyle=':', linewidth=2)\n",
    "plt.annotate('R1', xy=(-1.5, 0.2), xytext=(-1.5, 0.2))\n",
    "plt.annotate('R2', xy=(2, 0.2), xytext=(2, 0.2))\n",
    "plt.show()"
   ]
  },
  {
   "cell_type": "markdown",
   "metadata": {},
   "source": [
    "<p><a name=\"classify_rand\"></a>\n",
    "<br></p>\n",
    "\n",
    "## Classifying some random example data\n",
    "\n",
    "[<a href=\"#sections\">back to top</a>] <br>"
   ]
  },
  {
   "cell_type": "code",
   "execution_count": 9,
   "metadata": {},
   "outputs": [
    {
     "name": "stdout",
     "output_type": "stream",
     "text": [
      "Populating the interactive namespace from numpy and matplotlib\n"
     ]
    },
    {
     "data": {
      "image/png": "[encoded data removed]",
      "text/plain": [
       "<Figure size 504x504 with 1 Axes>"
      ]
     },
     "metadata": {
      "needs_background": "light"
     },
     "output_type": "display_data"
    }
   ],
   "source": [
    "%pylab inline\n",
    "\n",
    "import numpy as np\n",
    "from matplotlib import pyplot as plt\n",
    "\n",
    "def decision_boundary(x_1):\n",
    "    \"\"\" Calculates the x_2 value for plotting the decision boundary.\"\"\"\n",
    "    return 4 - np.sqrt(x_1**2 + 4*x_1 + 6 + np.log(16))\n",
    "\n",
    "def decision_rule(x_vec):\n",
    "    \"\"\" Returns value for the decision rule of 2-d row vectors \"\"\"\n",
    "    x_1 = x_vec[0]\n",
    "    x_2 = x_vec[1]\n",
    "    return x_1**2 + x_2**2 -4*x_1 - 8*x_2 - 4*np.log(2) + 10\n",
    "\n",
    "\n",
    "# Generate 100 random patterns for class1\n",
    "mu_vec1 = np.array([0,0])\n",
    "cov_mat1 = np.array([[2,0],[0,2]])\n",
    "x1_samples = np.random.multivariate_normal(mu_vec1, cov_mat1, 100)\n",
    "mu_vec1 = mu_vec1.reshape(1,2).T # to 1-col vector\n",
    "\n",
    "# Generate 100 random patterns for class2\n",
    "mu_vec2 = np.array([1,2])\n",
    "cov_mat2 = np.array([[1,0],[0,1]])\n",
    "x2_samples = np.random.multivariate_normal(mu_vec2, cov_mat2, 100)\n",
    "mu_vec2 = mu_vec2.reshape(1,2).T # to 1-col vector\n",
    "\n",
    "# Scatter plot\n",
    "f, ax = plt.subplots(figsize=(7, 7))\n",
    "ax.scatter(x1_samples[:,0], x1_samples[:,1], marker='o', color='green', s=40, alpha=0.5)\n",
    "ax.scatter(x2_samples[:,0], x2_samples[:,1], marker='^', color='blue', s=40, alpha=0.5)\n",
    "plt.legend(['Class1 (w1)', 'Class2 (w2)'], loc='upper right') \n",
    "plt.title('Densities of 2 classes with 100 bivariate random patterns each')\n",
    "plt.ylabel('x2')\n",
    "plt.xlabel('x1')\n",
    "ftext = 'p(x|w1) ~ N(mu1=(0,0)^t, cov1=2*I)\\np(x|w2) ~ N(mu2=(1,2)^t, cov2=I)'\n",
    "plt.figtext(.15,.8, ftext, fontsize=11, ha='left')\n",
    "\n",
    "# Plot decision boundary\n",
    "x_1 = np.arange(-5, 5, 0.1)\n",
    "bound = decision_boundary(x_1)\n",
    "plt.plot(x_1, bound, 'r--', lw=4)\n",
    "\n",
    "x_vec = np.linspace(*ax.get_xlim())\n",
    "x_1 = np.arange(0, 100, 0.05)\n",
    "\n",
    "plt.show()"
   ]
  },
  {
   "cell_type": "markdown",
   "metadata": {},
   "source": [
    "<p><a name=\"emp_err\"></a>\n",
    "<br></p>\n",
    "\n",
    "## Calculating the empirical error rate\n",
    "\n",
    "[<a href=\"#sections\">back to top</a>] <br>"
   ]
  },
  {
   "cell_type": "code",
   "execution_count": 10,
   "metadata": {},
   "outputs": [
    {
     "name": "stdout",
     "output_type": "stream",
     "text": [
      "Empirical Error: 14.499999999999998%\n"
     ]
    }
   ],
   "source": [
    "def decision_rule(x_vec):\n",
    "    \"\"\" Returns value for the decision rule of 2-d row vectors \"\"\"\n",
    "    x_1 = x_vec[0]\n",
    "    x_2 = x_vec[1]\n",
    "    return x_1**2 + x_2**2 -4*x_1 - 8*x_2 - 4*np.log(2) + 10\n",
    "\n",
    "w1_as_w2, w2_as_w1 = 0, 0\n",
    "\n",
    "for x in x1_samples:\n",
    "    if decision_rule(x) < 0:\n",
    "        w1_as_w2 += 1\n",
    "for x in x2_samples:\n",
    "    if decision_rule(x) > 0:\n",
    "        w2_as_w1 += 1\n",
    "\n",
    "emp_err = (w1_as_w2 + w2_as_w1) / float(len(x1_samples) + len(x2_samples))\n",
    "    \n",
    "print('Empirical Error: {}%'.format(emp_err * 100))"
   ]
  },
  {
   "cell_type": "code",
   "execution_count": null,
   "metadata": {},
   "outputs": [],
   "source": []
  }
 ],
 "metadata": {
  "kernelspec": {
   "display_name": "Python 3",
   "language": "python",
   "name": "python3"
  },
  "language_info": {
   "codemirror_mode": {
    "name": "ipython",
    "version": 3
   },
   "file_extension": ".py",
   "mimetype": "text/x-python",
   "name": "python",
   "nbconvert_exporter": "python",
   "pygments_lexer": "ipython3",
   "version": "3.6.10"
  },
  "toc": {
   "base_numbering": 1,
   "nav_menu": {},
   "number_sections": true,
   "sideBar": true,
   "skip_h1_title": true,
   "title_cell": "Table of Contents",
   "title_sidebar": "Contents",
   "toc_cell": true,
   "toc_position": {},
   "toc_section_display": true,
   "toc_window_display": false
  }
 },
 "nbformat": 4,
 "nbformat_minor": 1
}

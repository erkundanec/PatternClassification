{
 "cells": [
  {
   "cell_type": "markdown",
   "metadata": {
    "toc": true
   },
   "source": [
    "<h1>Table of Contents<span class=\"tocSkip\"></span></h1>\n",
    "<div class=\"toc\"><ul class=\"toc-item\"><li><span><a href=\"#Under-preparation\" data-toc-modified-id=\"Under-preparation-1\"><span class=\"toc-item-num\">1&nbsp;&nbsp;</span>Under preparation</a></span></li><li><span><a href=\"#Given-information:\" data-toc-modified-id=\"Given-information:-2\"><span class=\"toc-item-num\">2&nbsp;&nbsp;</span>Given information:</a></span><ul class=\"toc-item\"><li><span><a href=\"#Model:-continuous-bivariate-normal-(Gaussian)-model-for-the-class-conditional-densities\" data-toc-modified-id=\"Model:-continuous-bivariate-normal-(Gaussian)-model-for-the-class-conditional-densities-2.1\"><span class=\"toc-item-num\">2.1&nbsp;&nbsp;</span>Model: continuous bivariate normal (Gaussian) model for the class-conditional densities</a></span><ul class=\"toc-item\"><li><span><a href=\"#Given-data-points\" data-toc-modified-id=\"Given-data-points-2.1.1\"><span class=\"toc-item-num\">2.1.1&nbsp;&nbsp;</span>Given data points</a></span></li><li><span><a href=\"#Prior-probabilities:\" data-toc-modified-id=\"Prior-probabilities:-2.1.2\"><span class=\"toc-item-num\">2.1.2&nbsp;&nbsp;</span>Prior probabilities:</a></span></li><li><span><a href=\"#Variances-of-the-sample-distributions\" data-toc-modified-id=\"Variances-of-the-sample-distributions-2.1.3\"><span class=\"toc-item-num\">2.1.3&nbsp;&nbsp;</span>Variances of the sample distributions</a></span></li><li><span><a href=\"#Means-of-the-sample-distributions\" data-toc-modified-id=\"Means-of-the-sample-distributions-2.1.4\"><span class=\"toc-item-num\">2.1.4&nbsp;&nbsp;</span>Means of the sample distributions</a></span></li></ul></li></ul></li><li><span><a href=\"#Deriving-the-decision-boundary\" data-toc-modified-id=\"Deriving-the-decision-boundary-3\"><span class=\"toc-item-num\">3&nbsp;&nbsp;</span>Deriving the decision boundary</a></span><ul class=\"toc-item\"><li><span><a href=\"#Bayes'-Rule:\" data-toc-modified-id=\"Bayes'-Rule:-3.1\"><span class=\"toc-item-num\">3.1&nbsp;&nbsp;</span>Bayes' Rule:</a></span></li><li><span><a href=\"#Bayes'-Decision-Rule:\" data-toc-modified-id=\"Bayes'-Decision-Rule:-3.2\"><span class=\"toc-item-num\">3.2&nbsp;&nbsp;</span>Bayes' Decision Rule:</a></span></li><li><span><a href=\"#Discriminant-Functions\" data-toc-modified-id=\"Discriminant-Functions-3.3\"><span class=\"toc-item-num\">3.3&nbsp;&nbsp;</span>Discriminant Functions</a></span></li><li><span><a href=\"#Decision-Boundary\" data-toc-modified-id=\"Decision-Boundary-3.4\"><span class=\"toc-item-num\">3.4&nbsp;&nbsp;</span>Decision Boundary</a></span></li></ul></li><li><span><a href=\"#Plot-the-data-points-and-decision-boundary\" data-toc-modified-id=\"Plot-the-data-points-and-decision-boundary-4\"><span class=\"toc-item-num\">4&nbsp;&nbsp;</span>Plot the data points and decision boundary</a></span></li></ul></div>"
   ]
  },
  {
   "cell_type": "code",
   "execution_count": 1,
   "metadata": {},
   "outputs": [
    {
     "data": {
      "text/html": [
       "<style>\n",
       "@import url('http://fonts.googleapis.com/css?family=Source+Code+Pro');\n",
       "@import url('http://fonts.googleapis.com/css?family=Lora');\n",
       "\n",
       ".CodeMirror pre, .CodeMirror-dialog, .CodeMirror-dialog .CodeMirror-search-field, .terminal-app .terminal {\n",
       "    font-family: YOUR-FAV-FONT;\n",
       "    font-size: 16pt;\n",
       "}\n",
       "\n",
       ".CodeMirror pre {\n",
       "    font-family: \"Ubuntu\", monospace;\n",
       "}\n",
       "    div.cell{\n",
       "        width: 950px;\n",
       "        #margin-left: 0% !important;\n",
       "        #margin-right: auto;\n",
       "    }\n",
       "    div.text_cell_render{\n",
       "        font-family: \"Ubuntu\";\n",
       "        line-height: 115%;\n",
       "        font-size: 140%;\n",
       "        text-align: justify;\n",
       "        text-justify:inter-word;\n",
       "    }\n",
       "    div.text_cell code {\n",
       "        background: transparent;\n",
       "        color: #000000;\n",
       "        font-weight: 400;\n",
       "        font-size: 12pt;\n",
       "        font-family:  'Source Code Pro', Consolas, monocco, monospace;\n",
       "   }\n",
       "    h1 {\n",
       "        font-family: \"Ubuntu\";\n",
       "\t}\n",
       "\n",
       "    div.input_area {\n",
       "        background: #F6F6F9;\n",
       "        border: 1px solid #586e75;\n",
       "    }\n",
       "\n",
       "    .text_cell_render h1 {\n",
       "        font-weight: 200;\n",
       "        font-size: 30pt;\n",
       "\t#font-style: italic;\n",
       "        line-height: 100%;\n",
       "        color:#1f499c;\n",
       "        #margin-bottom: 0.1em;\n",
       "        #margin-top: 0.1em;\n",
       "        display: block;\n",
       "        #white-space: wrap;\n",
       "        text-align: left;\n",
       "    }\n",
       "    h2 {\n",
       "\tfont-family: \"Ubuntu\";\n",
       "        #font-family: 'Open sans',verdana,arial,sans-serif;\n",
       "        text-align: left;\n",
       "    }\n",
       "    .text_cell_render h2 {\n",
       "        font-weight: 200;\n",
       "        font-size: 24pt;\n",
       "        #font-style: italic;\n",
       "        #line-height: 100%;\n",
       "        color:#54ad1c;\n",
       "        #margin-bottom: 0.1em;\n",
       "        #margin-top: 0.1em;\n",
       "        display: block;\n",
       "        white-space: wrap;\n",
       "        text-align: left;\n",
       "    }\n",
       "    h3 {\n",
       "        font-family: \"Ubuntu\";\n",
       "    }\n",
       "    .text_cell_render h3 {\n",
       "        font-weight: 200;\n",
       "        font-size: 18pt;\n",
       "        line-height: 100%;\n",
       "        color:#b44ff7;\n",
       "        #margin-bottom: 0.5em;\n",
       "        #margin-top: 2em;\n",
       "        display: block;\n",
       "        white-space: wrap;\n",
       "        text-align: left;\n",
       "    }\n",
       "    h4 {\n",
       "        font-family: 'Open sans',verdana,arial,sans-serif;\n",
       "    }\n",
       "    .text_cell_render h4 {\n",
       "        font-weight: 100;\n",
       "        font-size: 14pt;\n",
       "        color:#d77c0c;\n",
       "        #margin-bottom: 0.5em;\n",
       "        #margin-top: 0.5em;\n",
       "        display: block;\n",
       "        white-space: nowrap;\n",
       "    }\n",
       "    h5 {\n",
       "        font-family: 'Open sans',verdana,arial,sans-serif;\n",
       "    }\n",
       "\n",
       "    .text_cell_render h5 {\n",
       "        font-weight: 200;\n",
       "        font-style: normal;\n",
       "        color: #1d3b84;\n",
       "        font-size: 16pt;\n",
       "        #margin-bottom: 0em;\n",
       "        #margin-top: 0.5em;\n",
       "        display: block;\n",
       "        white-space: nowrap;\n",
       "    }\n",
       "    div.output_subarea.output_text.output_pyout {\n",
       "        overflow-x: auto;\n",
       "        overflow-y: visible;\n",
       "        max-height: 5000000px;\n",
       "    }\n",
       "    div.output_subarea.output_stream.output_stdout.output_text {\n",
       "        overflow-x: auto;\n",
       "        overflow-y: visible;\n",
       "        max-height: 5000000px;\n",
       "    }\n",
       "    div.output_wrapper{\n",
       "        #margin-top:0.2em;\n",
       "        #margin-bottom:0.2em;\n",
       "}\n",
       "\n",
       "    code{\n",
       "        font-size: 12pt;\n",
       "\n",
       "    }\n",
       "    .rendered_html code{\n",
       "    background-color: transparent;\n",
       "    }\n",
       "    ul{\n",
       "        #margin: 2em;\n",
       "    }\n",
       "    ul li{\n",
       "        #padding-left: 0.5em;\n",
       "        #margin-bottom: 0.5em;\n",
       "        #margin-top: 0.5em;\n",
       "    }\n",
       "    ul li li{\n",
       "        #padding-left: 0.2em;\n",
       "        #margin-bottom: 0.2em;\n",
       "        #margin-top: 0.2em;\n",
       "    }\n",
       "    ol{\n",
       "        #margin: 2em;\n",
       "    }\n",
       "    ol li{\n",
       "        #padding-left: 0.5em;\n",
       "        #margin-bottom: 0.5em;\n",
       "        #margin-top: 0.5em;\n",
       "    }\n",
       "    ul li{\n",
       "        #padding-left: 0.5em;\n",
       "        #margin-bottom: 0.5em;\n",
       "        #margin-top: 0.2em;\n",
       "    }\n",
       "    a:link{\n",
       "       color:#447adb;\n",
       "    }\n",
       "    a:visited{\n",
       "       color: #1d3b84;\n",
       "    }\n",
       "    a:hover{\n",
       "       color: #1d3b84;\n",
       "    }\n",
       "    a:focus{\n",
       "       color:#447adb;\n",
       "    }\n",
       "    a:active{\n",
       "       font-weight: bold;\n",
       "       color:#447adb;\n",
       "    }\n",
       "    .rendered_html :link {\n",
       "       text-decoration: underline;\n",
       "    }\n",
       "    .rendered_html :hover {\n",
       "       text-decoration: none;\n",
       "    }\n",
       "    .rendered_html :visited {\n",
       "      text-decoration: none;\n",
       "    }\n",
       "    .rendered_html :focus {\n",
       "      text-decoration: none;\n",
       "    }\n",
       "    .rendered_html :active {\n",
       "      text-decoration: none;\n",
       "    }\n",
       "    .warning{\n",
       "        color: rgb( 240, 20, 20 )\n",
       "    }\n",
       "    hr {\n",
       "      color: #f3f3f3;\n",
       "      background-color: #f3f3f3;\n",
       "      height: 1px;\n",
       "    }\n",
       "    blockquote{\n",
       "      display:block;\n",
       "      background: #fcfcfc;\n",
       "      border-left: 5px solid #c76c0c;\n",
       "      font-family: 'Open sans',verdana,arial,sans-serif;\n",
       "      width:680px;\n",
       "      #padding: 10px 10px 10px 10px;\n",
       "      text-align:justify;\n",
       "      text-justify:inter-word;\n",
       "      }\n",
       "      blockquote p {\n",
       "        margin-bottom: 0;\n",
       "        line-height: 125%;\n",
       "        font-size: 100%;\n",
       "      }\n",
       "</style>\n",
       "<script>\n",
       "    MathJax.Hub.Config({\n",
       "                        TeX: {\n",
       "                           extensions: [\"AMSmath.js\"],\n",
       "                           equationNumbers: { autoNumber: \"AMS\", useLabelIds: true}\n",
       "                           },\n",
       "                tex2jax: {\n",
       "                    inlineMath: [ ['$','$'], [\"\\\\(\",\"\\\\)\"] ],\n",
       "                    displayMath: [ ['$$','$$'], [\"\\\\[\",\"\\\\]\"] ]\n",
       "                },\n",
       "                displayAlign: 'center', // Change this to 'center' to center equations.\n",
       "                \"HTML-CSS\": {\n",
       "                    scale:95,\n",
       "                        availableFonts: [],\n",
       "                        preferredFont:null,\n",
       "                        webFont: \"TeX\",\n",
       "                    styles: {'.MathJax_Display': {\"margin\": 4}}\n",
       "                }\n",
       "        });\n",
       "</script>\n"
      ],
      "text/plain": [
       "<IPython.core.display.HTML object>"
      ]
     },
     "execution_count": 1,
     "metadata": {},
     "output_type": "execute_result"
    }
   ],
   "source": [
    "%matplotlib inline\n",
    "import os\n",
    "from IPython.core.display import HTML\n",
    "def load_style(directory = '../', name='customMac.css'):  \n",
    "        styles = open(os.path.join(directory, name), 'r').read()\n",
    "        return HTML(styles)\n",
    "load_style()"
   ]
  },
  {
   "cell_type": "markdown",
   "metadata": {},
   "source": [
    "## Under preparation"
   ]
  },
  {
   "cell_type": "markdown",
   "metadata": {},
   "source": [
    "## Given information:"
   ]
  },
  {
   "cell_type": "markdown",
   "metadata": {},
   "source": [
    "### Model: continuous bivariate normal (Gaussian) model for the class-conditional densities\n",
    " \n",
    "$$ p({\\rm x} | \\omega_j) \\sim N({\\mu_j},\\Sigma_j) $$ \n",
    "\n",
    "$$ p({\\rm x} | \\omega_j) \\sim \\frac{1}{(2\\pi)^{d/2} |\\Sigma_j|^{1/2}} \\exp{ \\bigg[-\\frac{1}{2} ({\\rm x}-{\\mu_j})^t \\Sigma_j^{-1}({\\rm x}-{\\mu_j}) \\bigg] } $$\n"
   ]
  },
  {
   "cell_type": "markdown",
   "metadata": {},
   "source": [
    "#### Given data points"
   ]
  },
  {
   "cell_type": "markdown",
   "metadata": {},
   "source": [
    "$${\\omega _1} = \\left\\{ {\\left( {\\begin{array}{*{20}{c}}\n",
    "2\\\\\n",
    "6\n",
    "\\end{array}} \\right),\\left( {\\begin{array}{*{20}{c}}\n",
    "3\\\\\n",
    "4\n",
    "\\end{array}} \\right),\\left( {\\begin{array}{*{20}{c}}\n",
    "3\\\\\n",
    "8\n",
    "\\end{array}} \\right),\\left( {\\begin{array}{*{20}{c}}\n",
    "4\\\\\n",
    "6\n",
    "\\end{array}} \\right)} \\right\\}$$\n",
    "\n",
    "$${\\omega _2} = \\left\\{ {\\left( {\\begin{array}{*{20}{c}}\n",
    "3\\\\\n",
    "0\n",
    "\\end{array}} \\right),\\left( {\\begin{array}{*{20}{c}}\n",
    "1\\\\\n",
    "{ - 2}\n",
    "\\end{array}} \\right),\\left( {\\begin{array}{*{20}{c}}\n",
    "3\\\\\n",
    "{ - 4}\n",
    "\\end{array}} \\right),\\left( {\\begin{array}{*{20}{c}}\n",
    "5\\\\\n",
    "{ - 2}\n",
    "\\end{array}} \\right)} \\right\\}$$"
   ]
  },
  {
   "cell_type": "markdown",
   "metadata": {},
   "source": [
    "#### Prior probabilities:\n",
    "\n",
    "$$ P(\\omega_1) = 0.5, \\quad P(\\omega_2) = 0.5$$\n",
    "\n",
    "#### Variances of the sample distributions\n",
    "\n",
    "$ \\Sigma_1, \\quad \\Sigma_2 \\quad\\rightarrow$   calculate from the data points. \n",
    "\n",
    "$ \\Sigma_1^{-1}, \\quad \\Sigma_2^{-1} \\quad\\rightarrow$   calculate from the covariance matrix. \n",
    "\n",
    "$ |\\Sigma_1|, \\quad |\\Sigma_2| \\quad\\rightarrow$   calculate from the covariance matrix. \n",
    "\n",
    "#### Means of the sample distributions\n",
    "\n",
    "$ \\mu_1, \\quad \\mu_2 \\quad\\rightarrow$  calculate from the data points. "
   ]
  },
  {
   "cell_type": "code",
   "execution_count": 2,
   "metadata": {},
   "outputs": [
    {
     "name": "stdout",
     "output_type": "stream",
     "text": [
      "Covariance1\n",
      " [[0.5 0. ]\n",
      " [0.  2. ]]\n",
      "Inverse covX1 \n",
      " [[2.  0. ]\n",
      " [0.  0.5]]\n",
      "Determinant X1 \n",
      " 1.0\n",
      "Covariance2\n",
      " [[2. 0.]\n",
      " [0. 2.]]\n",
      "Inverse covX2 \n",
      " [[0.5 0. ]\n",
      " [0.  0.5]]\n",
      "Determinant X2  \n",
      " 4.0\n"
     ]
    }
   ],
   "source": [
    "import numpy as np\n",
    "from matplotlib import pyplot as plt\n",
    "X1 = np.asarray([[2,6],[3,4],[3,8],[4,6]])\n",
    "X2 = np.asarray([[3,0],[1,-2],[3,-4],[5,-2]])\n",
    "\n",
    "covX1 = np.cov(X1,rowvar=False,bias=True)\n",
    "covX2 = np.cov(X2,rowvar=False,bias=True)\n",
    "print('Covariance1\\n',covX1)\n",
    "print('Inverse covX1 \\n',np.linalg.inv(covX1))\n",
    "print('Determinant X1 \\n',np.linalg.det(covX1))\n",
    "print('Covariance2\\n',covX2)\n",
    "print('Inverse covX2 \\n',np.linalg.inv(covX2))\n",
    "print('Determinant X2  \\n',np.linalg.det(covX2))"
   ]
  },
  {
   "cell_type": "markdown",
   "metadata": {},
   "source": [
    "## Deriving the decision boundary\n",
    "### Bayes' Rule:\n",
    "\n",
    "$$ P(\\omega_j|{\\rm x}) = \\frac{p({\\rm x}|\\omega_j) \\cdot P(\\omega_j)}{p({\\rm x})} $$"
   ]
  },
  {
   "cell_type": "markdown",
   "metadata": {},
   "source": [
    "### Bayes' Decision Rule:\n",
    "$$Decide\\left\\{ {\\begin{array}{*{20}{c}}\n",
    "{{\\omega _1}}&{if~~P({\\omega _1}|{\\rm x}) > P({\\omega _2}|{\\rm x})}\\\\\n",
    "{{\\omega _2}}&{otherwise}\n",
    "\\end{array}} \\right.$$\n",
    "\n",
    "$$ \\Rightarrow \\frac{p({\\rm x}|\\omega_1) \\cdot P(\\omega_1)}{p({\\rm x})} > \\frac{p({\\rm x}|\\omega_2) \\cdot P(\\omega_2)}{p({\\rm x})} $$\n",
    "\n",
    "We can drop $ p({\\rm x}) $ since it does not contribute anything to make the decision, because $ p(x) $ is same for both the classes."
   ]
  },
  {
   "cell_type": "markdown",
   "metadata": {},
   "source": [
    "$$Decide\\left\\{ {\\begin{array}{*{20}{c}}\n",
    "{{\\omega _1}}&{if~~p({\\rm x}|\\omega_1) \\cdot P(\\omega_1) > p({\\rm x}|\\omega_2) \\cdot P(\\omega_2)}\\\\\n",
    "{{\\omega _2}}&{otherwise}\n",
    "\\end{array}} \\right.$$"
   ]
  },
  {
   "cell_type": "markdown",
   "metadata": {},
   "source": [
    "### Discriminant Functions\n",
    "$$g_1({\\rm x})=P(\\omega_1|{\\rm x}),\\quad g_2({\\rm x})=P(\\omega_2|{\\rm x})$$"
   ]
  },
  {
   "cell_type": "markdown",
   "metadata": {},
   "source": [
    "### Decision Boundary"
   ]
  },
  {
   "cell_type": "markdown",
   "metadata": {},
   "source": [
    "$$g({\\rm x}) = g_1(x)-g_2({\\rm x}) = 0$$\n",
    "\n",
    "$$\\Rightarrow \\quad p({\\rm x}|\\omega_1) * P(\\omega_1) - p({\\rm x}|\\omega_2) * P(\\omega_2)=0 $$ \n",
    "\n",
    "$$\\Rightarrow \\quad p({\\rm x}|\\omega_1) * P(\\omega_1) = p({\\rm x}|\\omega_2) * P(\\omega_2) $$ \n",
    "\n",
    "Prior probabilities for both the classes are same, therefore $P(\\omega_1)$ and $P(\\omega_2)$ can be omitted...\n",
    "\n",
    "Now, the decision boundary will be\n",
    "\n",
    "$$\\Rightarrow \\quad p({\\rm x}|\\omega_1)  = p({\\rm x}|\\omega_2) $$ "
   ]
  },
  {
   "cell_type": "markdown",
   "metadata": {},
   "source": [
    "$$ \\frac{1}{(2\\pi)^{d/2} |\\Sigma_i|^{1/2}} \\exp{ \\bigg[-\\frac{1}{2} ({\\rm x}-{\\mu_i})^t \\Sigma_i^{-1}({\\rm x}-{\\mu_i}) \\bigg] }  = \\frac{1}{(2\\pi)^{d/2} |\\Sigma_j|^{1/2}} \\exp{ \\bigg[-\\frac{1}{2} ({\\rm x}-{\\mu_j})^t \\Sigma_j^{-1}({\\rm x}-{\\mu_j}) \\bigg] }$$"
   ]
  },
  {
   "cell_type": "markdown",
   "metadata": {},
   "source": [
    "$$ \\frac{1}{ |\\Sigma_i|^{1/2}} \\exp{ \\bigg[-\\frac{1}{2} ({\\rm x}-{\\mu_i})^t \\Sigma_i^{-1}({\\rm x}-{\\mu_i}) \\bigg] }  = \\frac{1}{|\\Sigma_j|^{1/2}} \\exp{ \\bigg[-\\frac{1}{2} ({\\rm x}-{\\mu_j})^t \\Sigma_j^{-1}({\\rm x}-{\\mu_j}) \\bigg] }$$"
   ]
  },
  {
   "cell_type": "markdown",
   "metadata": {},
   "source": [
    "$$ \\frac{1}{ 1} \\exp{ \\bigg[-\\frac{1}{2} ({\\rm x}-{\\mu_i})^t \\Sigma_i^{-1}({\\rm x}-{\\mu_i}) \\bigg] }  = \\frac{1}{2} \\exp{ \\bigg[-\\frac{1}{2} ({\\rm x}-{\\mu_j})^t \\Sigma_j^{-1}({\\rm x}-{\\mu_j}) \\bigg] }$$"
   ]
  },
  {
   "cell_type": "markdown",
   "metadata": {},
   "source": [
    "$$ { -\\frac{1}{2} ({\\rm x}-{\\mu_i})^t \\Sigma_i^{-1}({\\rm x}-{\\mu_i}) }   = { -\\frac{1}{2} ({\\rm x}-{\\mu_j})^t \\Sigma_j^{-1}({\\rm x}-{\\mu_j})} -\\ln (2)$$"
   ]
  },
  {
   "cell_type": "markdown",
   "metadata": {},
   "source": [
    "Put ${\\rm x} = \\left( {\\begin{array}{*{20}{c}}\n",
    "{{x_1}}\\\\\n",
    "{{x_2}}\n",
    "\\end{array}} \\right)$ and values of covariance matrices and means. \n",
    "\n",
    "Final decision boundary equation\n",
    "\n",
    "$$1.5x_1^2-9x_1-8x_2+28.1137=0$$\n",
    "\n",
    "$$\\Rightarrow\\quad x_2 = \\frac{1}{8}\\bigg[1.5x_1^2-9x_1+28.1137\\bigg]$$"
   ]
  },
  {
   "cell_type": "markdown",
   "metadata": {},
   "source": [
    "## Plot the data points and decision boundary"
   ]
  },
  {
   "cell_type": "code",
   "execution_count": 4,
   "metadata": {},
   "outputs": [],
   "source": [
    "mu1 = X1.mean(axis=0)\n",
    "mu2 = X2.mean(axis=0)\n",
    "x1= np.arange(-2,8,0.2)\n",
    "x2 = (1/8)*(1.5*x1**2-9*x1+28.1137)"
   ]
  },
  {
   "cell_type": "code",
   "execution_count": 5,
   "metadata": {},
   "outputs": [
    {
     "data": {
      "text/plain": [
       "(-2.4899999999999998, 8.289999999999997, -4.64314980905646, 8.611690689600467)"
      ]
     },
     "execution_count": 5,
     "metadata": {},
     "output_type": "execute_result"
    },
    {
     "data": {
      "image/png": "[encoded data removed]",
      "text/plain": [
       "<Figure size 432x432 with 1 Axes>"
      ]
     },
     "metadata": {
      "needs_background": "light"
     },
     "output_type": "display_data"
    }
   ],
   "source": [
    "plt.figure(figsize=(6,6))\n",
    "plt.scatter(X1[:,0],X1[:,1])\n",
    "plt.scatter(X2[:,0],X2[:,1])\n",
    "plt.plot(x1,x2)\n",
    "plt.axis('equal')"
   ]
  },
  {
   "cell_type": "code",
   "execution_count": null,
   "metadata": {},
   "outputs": [],
   "source": []
  }
 ],
 "metadata": {
  "kernelspec": {
   "display_name": "Python 3",
   "language": "python",
   "name": "python3"
  },
  "language_info": {
   "codemirror_mode": {
    "name": "ipython",
    "version": 3
   },
   "file_extension": ".py",
   "mimetype": "text/x-python",
   "name": "python",
   "nbconvert_exporter": "python",
   "pygments_lexer": "ipython3",
   "version": "3.6.10"
  },
  "toc": {
   "base_numbering": 1,
   "nav_menu": {},
   "number_sections": true,
   "sideBar": true,
   "skip_h1_title": true,
   "title_cell": "Table of Contents",
   "title_sidebar": "Contents",
   "toc_cell": true,
   "toc_position": {},
   "toc_section_display": true,
   "toc_window_display": false
  }
 },
 "nbformat": 4,
 "nbformat_minor": 2
}

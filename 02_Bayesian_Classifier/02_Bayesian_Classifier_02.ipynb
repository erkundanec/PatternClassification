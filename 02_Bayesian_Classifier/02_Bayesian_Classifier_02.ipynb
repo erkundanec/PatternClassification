{
 "cells": [
  {
   "cell_type": "markdown",
   "metadata": {
    "toc": true
   },
   "source": [
    "<h1>Table of Contents<span class=\"tocSkip\"></span></h1>\n",
    "<div class=\"toc\"><ul class=\"toc-item\"><li><span><a href=\"#Given-information:\" data-toc-modified-id=\"Given-information:-1\"><span class=\"toc-item-num\">1&nbsp;&nbsp;</span>Given information:</a></span><ul class=\"toc-item\"><li><span><a href=\"#Model:-continuous-univariate-normal-(Gaussian)-model-for-the-class-conditional-densities\" data-toc-modified-id=\"Model:-continuous-univariate-normal-(Gaussian)-model-for-the-class-conditional-densities-1.1\"><span class=\"toc-item-num\">1.1&nbsp;&nbsp;</span>Model: continuous univariate normal (Gaussian) model for the class-conditional densities</a></span><ul class=\"toc-item\"><li><span><a href=\"#Prior-probabilities:\" data-toc-modified-id=\"Prior-probabilities:-1.1.1\"><span class=\"toc-item-num\">1.1.1&nbsp;&nbsp;</span>Prior probabilities:</a></span></li><li><span><a href=\"#Variances-of-the-sample-distributions\" data-toc-modified-id=\"Variances-of-the-sample-distributions-1.1.2\"><span class=\"toc-item-num\">1.1.2&nbsp;&nbsp;</span>Variances of the sample distributions</a></span></li><li><span><a href=\"#Means-of-the-sample-distributions\" data-toc-modified-id=\"Means-of-the-sample-distributions-1.1.3\"><span class=\"toc-item-num\">1.1.3&nbsp;&nbsp;</span>Means of the sample distributions</a></span></li></ul></li></ul></li><li><span><a href=\"#Deriving-the-decision-boundary\" data-toc-modified-id=\"Deriving-the-decision-boundary-2\"><span class=\"toc-item-num\">2&nbsp;&nbsp;</span>Deriving the decision boundary</a></span><ul class=\"toc-item\"><li><span><a href=\"#Bayes'-Rule:\" data-toc-modified-id=\"Bayes'-Rule:-2.1\"><span class=\"toc-item-num\">2.1&nbsp;&nbsp;</span>Bayes' Rule:</a></span></li><li><span><a href=\"#Bayes'-Decision-Rule:\" data-toc-modified-id=\"Bayes'-Decision-Rule:-2.2\"><span class=\"toc-item-num\">2.2&nbsp;&nbsp;</span>Bayes' Decision Rule:</a></span></li><li><span><a href=\"#Discriminant-Function\" data-toc-modified-id=\"Discriminant-Function-2.3\"><span class=\"toc-item-num\">2.3&nbsp;&nbsp;</span>Discriminant Function</a></span></li><li><span><a href=\"#Decision-Boundary\" data-toc-modified-id=\"Decision-Boundary-2.4\"><span class=\"toc-item-num\">2.4&nbsp;&nbsp;</span>Decision Boundary</a></span></li></ul></li><li><span><a href=\"#Plotting-the-class-conditional-densities,-posterior-probabilities,-and-decision-boundary\" data-toc-modified-id=\"Plotting-the-class-conditional-densities,-posterior-probabilities,-and-decision-boundary-3\"><span class=\"toc-item-num\">3&nbsp;&nbsp;</span>Plotting the class conditional densities, posterior probabilities, and decision boundary</a></span></li><li><span><a href=\"#Classifying-some-random-example-data\" data-toc-modified-id=\"Classifying-some-random-example-data-4\"><span class=\"toc-item-num\">4&nbsp;&nbsp;</span>Classifying some random example data</a></span></li><li><span><a href=\"#Calculating-the-empirical-error-rate\" data-toc-modified-id=\"Calculating-the-empirical-error-rate-5\"><span class=\"toc-item-num\">5&nbsp;&nbsp;</span>Calculating the empirical error rate</a></span></li></ul></div>"
   ]
  },
  {
   "cell_type": "code",
   "execution_count": 3,
   "metadata": {},
   "outputs": [
    {
     "data": {
      "text/html": [
       "<style>\n",
       "@import url('http://fonts.googleapis.com/css?family=Source+Code+Pro');\n",
       "@import url('http://fonts.googleapis.com/css?family=Lora');\n",
       "\n",
       ".CodeMirror pre, .CodeMirror-dialog, .CodeMirror-dialog .CodeMirror-search-field, .terminal-app .terminal {\n",
       "    font-family: YOUR-FAV-FONT;\n",
       "    font-size: 16pt;\n",
       "}\n",
       "\n",
       ".CodeMirror pre {\n",
       "    font-family: \"Ubuntu\", monospace;\n",
       "}\n",
       "    div.cell{\n",
       "        width: 950px;\n",
       "        #margin-left: 0% !important;\n",
       "        #margin-right: auto;\n",
       "    }\n",
       "    div.text_cell_render{\n",
       "        font-family: \"Ubuntu\";\n",
       "        line-height: 115%;\n",
       "        font-size: 140%;\n",
       "        text-align: justify;\n",
       "        text-justify:inter-word;\n",
       "    }\n",
       "    div.text_cell code {\n",
       "        background: transparent;\n",
       "        color: #000000;\n",
       "        font-weight: 400;\n",
       "        font-size: 12pt;\n",
       "        font-family:  'Source Code Pro', Consolas, monocco, monospace;\n",
       "   }\n",
       "    h1 {\n",
       "        font-family: \"Ubuntu\";\n",
       "\t}\n",
       "\n",
       "    div.input_area {\n",
       "        background: #F6F6F9;\n",
       "        border: 1px solid #586e75;\n",
       "    }\n",
       "\n",
       "    .text_cell_render h1 {\n",
       "        font-weight: 200;\n",
       "        font-size: 30pt;\n",
       "\t#font-style: italic;\n",
       "        line-height: 100%;\n",
       "        color:#1f499c;\n",
       "        #margin-bottom: 0.1em;\n",
       "        #margin-top: 0.1em;\n",
       "        display: block;\n",
       "        #white-space: wrap;\n",
       "        text-align: left;\n",
       "    }\n",
       "    h2 {\n",
       "\tfont-family: \"Ubuntu\";\n",
       "        #font-family: 'Open sans',verdana,arial,sans-serif;\n",
       "        text-align: left;\n",
       "    }\n",
       "    .text_cell_render h2 {\n",
       "        font-weight: 200;\n",
       "        font-size: 24pt;\n",
       "        #font-style: italic;\n",
       "        #line-height: 100%;\n",
       "        color:#54ad1c;\n",
       "        #margin-bottom: 0.1em;\n",
       "        #margin-top: 0.1em;\n",
       "        display: block;\n",
       "        white-space: wrap;\n",
       "        text-align: left;\n",
       "    }\n",
       "    h3 {\n",
       "        font-family: \"Ubuntu\";\n",
       "    }\n",
       "    .text_cell_render h3 {\n",
       "        font-weight: 200;\n",
       "        font-size: 18pt;\n",
       "        line-height: 100%;\n",
       "        color:#b44ff7;\n",
       "        #margin-bottom: 0.5em;\n",
       "        #margin-top: 2em;\n",
       "        display: block;\n",
       "        white-space: wrap;\n",
       "        text-align: left;\n",
       "    }\n",
       "    h4 {\n",
       "        font-family: 'Open sans',verdana,arial,sans-serif;\n",
       "    }\n",
       "    .text_cell_render h4 {\n",
       "        font-weight: 100;\n",
       "        font-size: 14pt;\n",
       "        color:#d77c0c;\n",
       "        #margin-bottom: 0.5em;\n",
       "        #margin-top: 0.5em;\n",
       "        display: block;\n",
       "        white-space: nowrap;\n",
       "    }\n",
       "    h5 {\n",
       "        font-family: 'Open sans',verdana,arial,sans-serif;\n",
       "    }\n",
       "\n",
       "    .text_cell_render h5 {\n",
       "        font-weight: 200;\n",
       "        font-style: normal;\n",
       "        color: #1d3b84;\n",
       "        font-size: 16pt;\n",
       "        #margin-bottom: 0em;\n",
       "        #margin-top: 0.5em;\n",
       "        display: block;\n",
       "        white-space: nowrap;\n",
       "    }\n",
       "    div.output_subarea.output_text.output_pyout {\n",
       "        overflow-x: auto;\n",
       "        overflow-y: visible;\n",
       "        max-height: 5000000px;\n",
       "    }\n",
       "    div.output_subarea.output_stream.output_stdout.output_text {\n",
       "        overflow-x: auto;\n",
       "        overflow-y: visible;\n",
       "        max-height: 5000000px;\n",
       "    }\n",
       "    div.output_wrapper{\n",
       "        #margin-top:0.2em;\n",
       "        #margin-bottom:0.2em;\n",
       "}\n",
       "\n",
       "    code{\n",
       "        font-size: 12pt;\n",
       "\n",
       "    }\n",
       "    .rendered_html code{\n",
       "    background-color: transparent;\n",
       "    }\n",
       "    ul{\n",
       "        #margin: 2em;\n",
       "    }\n",
       "    ul li{\n",
       "        #padding-left: 0.5em;\n",
       "        #margin-bottom: 0.5em;\n",
       "        #margin-top: 0.5em;\n",
       "    }\n",
       "    ul li li{\n",
       "        #padding-left: 0.2em;\n",
       "        #margin-bottom: 0.2em;\n",
       "        #margin-top: 0.2em;\n",
       "    }\n",
       "    ol{\n",
       "        #margin: 2em;\n",
       "    }\n",
       "    ol li{\n",
       "        #padding-left: 0.5em;\n",
       "        #margin-bottom: 0.5em;\n",
       "        #margin-top: 0.5em;\n",
       "    }\n",
       "    ul li{\n",
       "        #padding-left: 0.5em;\n",
       "        #margin-bottom: 0.5em;\n",
       "        #margin-top: 0.2em;\n",
       "    }\n",
       "    a:link{\n",
       "       color:#447adb;\n",
       "    }\n",
       "    a:visited{\n",
       "       color: #1d3b84;\n",
       "    }\n",
       "    a:hover{\n",
       "       color: #1d3b84;\n",
       "    }\n",
       "    a:focus{\n",
       "       color:#447adb;\n",
       "    }\n",
       "    a:active{\n",
       "       font-weight: bold;\n",
       "       color:#447adb;\n",
       "    }\n",
       "    .rendered_html :link {\n",
       "       text-decoration: underline;\n",
       "    }\n",
       "    .rendered_html :hover {\n",
       "       text-decoration: none;\n",
       "    }\n",
       "    .rendered_html :visited {\n",
       "      text-decoration: none;\n",
       "    }\n",
       "    .rendered_html :focus {\n",
       "      text-decoration: none;\n",
       "    }\n",
       "    .rendered_html :active {\n",
       "      text-decoration: none;\n",
       "    }\n",
       "    .warning{\n",
       "        color: rgb( 240, 20, 20 )\n",
       "    }\n",
       "    hr {\n",
       "      color: #f3f3f3;\n",
       "      background-color: #f3f3f3;\n",
       "      height: 1px;\n",
       "    }\n",
       "    blockquote{\n",
       "      display:block;\n",
       "      background: #fcfcfc;\n",
       "      border-left: 5px solid #c76c0c;\n",
       "      font-family: 'Open sans',verdana,arial,sans-serif;\n",
       "      width:680px;\n",
       "      #padding: 10px 10px 10px 10px;\n",
       "      text-align:justify;\n",
       "      text-justify:inter-word;\n",
       "      }\n",
       "      blockquote p {\n",
       "        margin-bottom: 0;\n",
       "        line-height: 125%;\n",
       "        font-size: 100%;\n",
       "      }\n",
       "</style>\n",
       "<script>\n",
       "    MathJax.Hub.Config({\n",
       "                        TeX: {\n",
       "                           extensions: [\"AMSmath.js\"],\n",
       "                           equationNumbers: { autoNumber: \"AMS\", useLabelIds: true}\n",
       "                           },\n",
       "                tex2jax: {\n",
       "                    inlineMath: [ ['$','$'], [\"\\\\(\",\"\\\\)\"] ],\n",
       "                    displayMath: [ ['$$','$$'], [\"\\\\[\",\"\\\\]\"] ]\n",
       "                },\n",
       "                displayAlign: 'center', // Change this to 'center' to center equations.\n",
       "                \"HTML-CSS\": {\n",
       "                    scale:95,\n",
       "                        availableFonts: [],\n",
       "                        preferredFont:null,\n",
       "                        webFont: \"TeX\",\n",
       "                    styles: {'.MathJax_Display': {\"margin\": 4}}\n",
       "                }\n",
       "        });\n",
       "</script>\n"
      ],
      "text/plain": [
       "<IPython.core.display.HTML object>"
      ]
     },
     "execution_count": 3,
     "metadata": {},
     "output_type": "execute_result"
    }
   ],
   "source": [
    "%matplotlib inline\n",
    "import os\n",
    "from IPython.core.display import HTML\n",
    "def load_style(directory = '../', name='customMac.css'):  \n",
    "        styles = open(os.path.join(directory, name), 'r').read()\n",
    "        return HTML(styles)\n",
    "load_style()"
   ]
  },
  {
   "cell_type": "markdown",
   "metadata": {},
   "source": [
    "## Given information:"
   ]
  },
  {
   "cell_type": "markdown",
   "metadata": {},
   "source": [
    "### Model: continuous univariate normal (Gaussian) model for the class-conditional densities\n",
    " \n",
    "$$ p(x | \\omega_j) \\sim N(\\mu_j,\\sigma_j^2) $$\n",
    "\n",
    "$$ p(x | \\omega_j) \\sim \\frac{1}{\\sqrt{2\\pi}\\sigma_j} \\exp{ \\bigg[-\\frac{1}{2}\\bigg( \\frac{x-\\mu_j}{\\sigma_j}\\bigg)^2 \\bigg] } $$\n",
    "\n",
    "#### Prior probabilities:\n",
    "\n",
    "$ P(\\omega_1) = 0.5, \\quad P(\\omega_2) = 0.5, \\quad  p(x | \\omega_1) \\sim N(0,1), \\quad  p(x | \\omega_2) \\sim N(1,1)$\n",
    "\n",
    "#### Variances of the sample distributions\n",
    "\n",
    "$ \\sigma_1^2 = \\sigma_2^2 = 1 $\n",
    "\n",
    "#### Means of the sample distributions\n",
    "\n",
    "$ \\mu_1 = 0, \\quad \\mu_2 = 1 $\n"
   ]
  },
  {
   "cell_type": "markdown",
   "metadata": {},
   "source": [
    "## Deriving the decision boundary\n",
    "### Bayes' Rule:\n",
    "\n",
    "$$ P(\\omega_j|x) = \\frac{p(x|\\omega_j) \\cdot P(\\omega_j)}{p(x)} $$"
   ]
  },
  {
   "cell_type": "markdown",
   "metadata": {},
   "source": [
    "### Bayes' Decision Rule:\n",
    "$$Decide\\left\\{ {\\begin{array}{*{20}{c}}\n",
    "{{\\omega _1}}&{if~~P({\\omega _1}|x) > P({\\omega _2}|x)}\\\\\n",
    "{{\\omega _2}}&{otherwise}\n",
    "\\end{array}} \\right.$$\n",
    "\n",
    "$$ \\Rightarrow \\frac{p(x|\\omega_1) \\cdot P(\\omega_1)}{p(x)} > \\frac{p(x|\\omega_2) \\cdot P(\\omega_2)}{p(x)} $$\n",
    "\n",
    "We can drop $ p(x) $ since it does not contribute anything to make the decision, because $ p(x) $ is same for both the classes."
   ]
  },
  {
   "cell_type": "markdown",
   "metadata": {},
   "source": [
    "$$Decide\\left\\{ {\\begin{array}{*{20}{c}}\n",
    "{{\\omega _1}}&{if~~p(x|\\omega_1) \\cdot P(\\omega_1) > p(x|\\omega_2) \\cdot P(\\omega_2)}\\\\\n",
    "{{\\omega _2}}&{otherwise}\n",
    "\\end{array}} \\right.$$"
   ]
  },
  {
   "cell_type": "markdown",
   "metadata": {},
   "source": [
    "### Discriminant Function\n",
    "$$g_1(x)=P(\\omega_1|x),\\quad g_2(x)=P(\\omega_2|x)$$"
   ]
  },
  {
   "cell_type": "markdown",
   "metadata": {},
   "source": [
    "### Decision Boundary"
   ]
  },
  {
   "cell_type": "markdown",
   "metadata": {},
   "source": [
    "$$g(x) = g_1(x)-g_2(x) = 0$$\n",
    "\n",
    "$$\\Rightarrow \\quad p(x|\\omega_1) * P(\\omega_1) - p(x|\\omega_2) * P(\\omega_2)=0 $$ \n",
    "\n",
    "$$\\Rightarrow \\quad p(x|\\omega_1) * P(\\omega_1) = p(x|\\omega_2) * P(\\omega_2) $$ \n",
    "\n",
    "Prior probabilities for both the classes are same, therefore $P(\\omega_1)$ and $P(\\omega_2)$ can be omitted...\n",
    "\n",
    "Now, the decision boundary will be\n",
    "\n",
    "$$\\Rightarrow \\quad p(x|\\omega_1)  = p(x|\\omega_2) $$ "
   ]
  },
  {
   "cell_type": "markdown",
   "metadata": {},
   "source": [
    "$$ \\Rightarrow \\frac{1}{\\sqrt{2\\pi}\\sigma_1} \\exp{ \\bigg[-\\frac{1}{2}\\bigg( \\frac{x-\\mu_1}{\\sigma_1}\\bigg)^2 \\bigg] }  = \\frac{1}{\\sqrt{2\\pi}\\sigma_2} \\exp{ \\bigg[-\\frac{1}{2}\\bigg( \\frac{x-\\mu_2}{\\sigma_2}\\bigg)^2 \\bigg] }$$\n",
    "\n",
    "Since we have equal variances, we can drop the first term completely.\n",
    "\n",
    "$$ \\Rightarrow \\exp{ \\bigg[-\\frac{1}{2}\\bigg( \\frac{x-\\mu_1}{\\sigma_1}\\bigg)^2 \\bigg] } = \\exp{ \\bigg[-\\frac{1}{2}\\bigg( \\frac{x-\\mu_2}{\\sigma_2}\\bigg)^2 \\bigg] }$$\n",
    "\n",
    "$$ \\Rightarrow \\exp{ \\bigg[-\\frac{1}{2}\\bigg( \\frac{x-\\mu_1}{\\sigma_1}\\bigg)^2 \\bigg] } = \\exp{ \\bigg[-\\frac{1}{2}\\bigg( \\frac{x-\\mu_2}{\\sigma_2}\\bigg)^2 \\bigg] }$$\n",
    "\n",
    "Put the values and take the logarithmic both side\n",
    "\n",
    "$$ \\Rightarrow { \\bigg[-\\frac{1}{2}\\bigg( \\frac{x-0}{1}\\bigg)^2 \\bigg] } = { \\bigg[-\\frac{1}{2}\\bigg( \\frac{x-1}{1}\\bigg)^2 \\bigg] }$$\n",
    "\n",
    "$$ \\Rightarrow -\\frac{x^2}{2}  = -\\frac{1}{2}\\bigg( \\frac{x-1}{1}\\bigg)^2 $$\n",
    "\n",
    "$$ \\Rightarrow -\\frac{x^2}{2}  = -\\frac{1}{2}\\bigg( \\frac{x-1}{1}\\bigg)^2 $$\n",
    "\n",
    "$$ \\Rightarrow -\\frac{x^2}{2}  = -\\frac{x^2}{2}+x-\\frac{1}{2} $$\n",
    "\n",
    "$$ \\Rightarrow x  = \\frac{1}{2}$$\n",
    "\n",
    "$$ \\Rightarrow x  = 0.5 $$\n",
    "\n",
    "This is threshold value to make the decision, i.e., $x_t=0.5$"
   ]
  },
  {
   "cell_type": "markdown",
   "metadata": {},
   "source": [
    "Therefore if $x<x_t$, i.e., $x<0.5$, $x$ will be classified to class $\\omega_1$ else classified to class $\\omega_2$"
   ]
  },
  {
   "cell_type": "markdown",
   "metadata": {},
   "source": [
    "## Plotting the class conditional densities, posterior probabilities, and decision boundary"
   ]
  },
  {
   "cell_type": "code",
   "execution_count": 5,
   "metadata": {},
   "outputs": [
    {
     "name": "stdout",
     "output_type": "stream",
     "text": [
      "Populating the interactive namespace from numpy and matplotlib\n"
     ]
    },
    {
     "data": {
      "image/png": "[encoded data removed]",
      "text/plain": [
       "<Figure size 432x288 with 1 Axes>"
      ]
     },
     "metadata": {
      "needs_background": "light"
     },
     "output_type": "display_data"
    }
   ],
   "source": [
    "%pylab inline\n",
    "import numpy as np\n",
    "from matplotlib import pyplot as plt\n",
    "\n",
    "def pdf(x, mu, sigma):\n",
    "    \"\"\"\n",
    "    Calculates the normal distribution's probability density \n",
    "    function (PDF).   \n",
    "    \"\"\"\n",
    "    term1 = 1.0 / ( math.sqrt(2*np.pi) * sigma )\n",
    "    term2 = np.exp( -0.5 * ( (x-mu)/sigma )**2 )\n",
    "    return term1 * term2\n",
    "\n",
    "# generating some sample data\n",
    "x = np.arange(-10, 10, 0.05)\n",
    "\n",
    "# probability density functions\n",
    "pdf1 = pdf(x, mu=0, sigma=1)\n",
    "pdf2 = pdf(x, mu=1, sigma=1)\n",
    "\n",
    "# Class conditional densities (likelihoods)\n",
    "plt.plot(x, pdf1)\n",
    "plt.plot(x, pdf2)\n",
    "plt.title('Class conditional densities (likelihoods)')\n",
    "plt.ylabel('$p(x|\\omega_i)$')\n",
    "plt.xlabel('random variable x')\n",
    "plt.legend(['$p(x|\\omega_1) \\sim N(0,1)$', '$p(x|\\omega_2) \\sim N(1,1)$'], loc='upper right')\n",
    "plt.ylim([0,0.5])\n",
    "plt.xlim([-6,6])\n",
    "plt.show()"
   ]
  },
  {
   "cell_type": "code",
   "execution_count": 6,
   "metadata": {},
   "outputs": [
    {
     "data": {
      "image/png": "[encoded data removed]",
      "text/plain": [
       "<Figure size 432x288 with 1 Axes>"
      ]
     },
     "metadata": {
      "needs_background": "light"
     },
     "output_type": "display_data"
    }
   ],
   "source": [
    "def posterior(likelihood, prior):\n",
    "    \"\"\"\n",
    "    Calculates the posterior probability (after Bayes Rule) without\n",
    "    the scale factor p(x) (=evidence).  \n",
    "        \n",
    "    \"\"\"\n",
    "    return likelihood * prior\n",
    "\n",
    "# probability density functions\n",
    "posterior1 = posterior(pdf(x, mu=0, sigma=1), 0.5)\n",
    "posterior2 = posterior(pdf(x, mu=1, sigma=1), 0.5)\n",
    "\n",
    "# Class conditional densities (likelihoods)\n",
    "plt.plot(x, posterior1)\n",
    "plt.plot(x, posterior2)\n",
    "plt.title('Posterior Probabilities w. Decision Boundary')\n",
    "plt.ylabel('$P(\\omega_j|x)$')\n",
    "plt.xlabel('random variable x')\n",
    "plt.legend(['$P(\\omega_1|x)$', '$p(\\omega_2|x$)'], loc='upper right')\n",
    "plt.ylim([0,0.3])\n",
    "plt.xlim([-4,4])\n",
    "plt.axvline(0.5, color='r', alpha=0.8, linestyle=':', linewidth=2)\n",
    "plt.annotate('R1', xy=(-3, 0.2), xytext=(-3, 0.2))\n",
    "plt.annotate('R2', xy=(3, 0.2), xytext=(3, 0.2))\n",
    "plt.show()"
   ]
  },
  {
   "cell_type": "markdown",
   "metadata": {},
   "source": [
    "## Classifying some random example data"
   ]
  },
  {
   "cell_type": "code",
   "execution_count": 7,
   "metadata": {},
   "outputs": [
    {
     "data": {
      "image/png": "[encoded data removed]",
      "text/plain": [
       "<Figure size 432x288 with 1 Axes>"
      ]
     },
     "metadata": {
      "needs_background": "light"
     },
     "output_type": "display_data"
    }
   ],
   "source": [
    "# Parameters\n",
    "mu_1 = 0\n",
    "mu_2 = 1\n",
    "sigma_1_sqr = 1\n",
    "sigma_2_sqr = 1\n",
    "\n",
    "numpy.random.seed(40) # set the random seed to generate same data points\n",
    "# Generating 10 random samples drawn from a Normal Distribution for class 1 & 2\n",
    "x1_samples = sigma_1_sqr**0.5 * np.random.randn(10) + mu_1\n",
    "x2_samples = sigma_1_sqr**0.5 * np.random.randn(10) + mu_2\n",
    "y = [0 for i in range(10)]\n",
    "\n",
    "# Plotting sample data with a decision boundary\n",
    "plt.plot(x, posterior1,color='green')\n",
    "plt.plot(x, posterior2,color='blue')\n",
    "plt.scatter(x1_samples, y, marker='o', color='green', s=40, alpha=0.5)\n",
    "plt.scatter(x2_samples, y, marker='^', color='blue', s=40, alpha=0.5)\n",
    "plt.title('Classifying random example data from 2 classes')\n",
    "plt.ylabel('$P(\\omega_j|x)$')\n",
    "plt.xlabel('random variable x')\n",
    "plt.legend(['$P(\\omega_1|x)$', '$p(\\omega_2|x$)'], loc='upper right')\n",
    "plt.ylim([-0.1,0.3])\n",
    "plt.xlim([-4,4])\n",
    "plt.axvline(0.5, color='r', alpha=0.8, linestyle=':', linewidth=2)\n",
    "plt.annotate('R1', xy=(-1.5, 0.18), xytext=(-1.5, 0.18))\n",
    "plt.annotate('R2', xy=(2, 0.18), xytext=(2, 0.18))\n",
    "plt.show()"
   ]
  },
  {
   "cell_type": "markdown",
   "metadata": {},
   "source": [
    "## Calculating the empirical error rate"
   ]
  },
  {
   "cell_type": "code",
   "execution_count": 8,
   "metadata": {},
   "outputs": [
    {
     "name": "stdout",
     "output_type": "stream",
     "text": [
      "w1 classified as w2= 4\n",
      "w2 classified as w1= 2\n",
      "Empirical Error: 30.0%\n"
     ]
    }
   ],
   "source": [
    "w1_as_w2, w2_as_w1 = 0, 0\n",
    "for x1,x2 in zip(x1_samples, x2_samples):\n",
    "    if x1 >= 0.5:\n",
    "        w1_as_w2 += 1\n",
    "    if x2 < 0.5:\n",
    "        w2_as_w1 += 1\n",
    "    \n",
    "print('w1 classified as w2=',w1_as_w2)\n",
    "print('w2 classified as w1=', w2_as_w1)\n",
    "emp_err =  (w1_as_w2 + w2_as_w1) / float(len(x1_samples) + len(x2_samples))\n",
    "    \n",
    "print('Empirical Error: {}%'.format(emp_err * 100))"
   ]
  },
  {
   "cell_type": "code",
   "execution_count": null,
   "metadata": {},
   "outputs": [],
   "source": []
  },
  {
   "cell_type": "code",
   "execution_count": null,
   "metadata": {},
   "outputs": [],
   "source": []
  },
  {
   "cell_type": "code",
   "execution_count": null,
   "metadata": {},
   "outputs": [],
   "source": []
  },
  {
   "cell_type": "code",
   "execution_count": null,
   "metadata": {},
   "outputs": [],
   "source": []
  }
 ],
 "metadata": {
  "kernelspec": {
   "display_name": "Python 3",
   "language": "python",
   "name": "python3"
  },
  "language_info": {
   "codemirror_mode": {
    "name": "ipython",
    "version": 3
   },
   "file_extension": ".py",
   "mimetype": "text/x-python",
   "name": "python",
   "nbconvert_exporter": "python",
   "pygments_lexer": "ipython3",
   "version": "3.6.10"
  },
  "toc": {
   "base_numbering": 1,
   "nav_menu": {},
   "number_sections": true,
   "sideBar": true,
   "skip_h1_title": true,
   "title_cell": "Table of Contents",
   "title_sidebar": "Contents",
   "toc_cell": true,
   "toc_position": {},
   "toc_section_display": true,
   "toc_window_display": false
  }
 },
 "nbformat": 4,
 "nbformat_minor": 2
}

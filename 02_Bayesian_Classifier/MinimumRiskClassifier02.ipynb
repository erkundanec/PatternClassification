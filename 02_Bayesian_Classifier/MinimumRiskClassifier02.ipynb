{
 "cells": [
  {
   "cell_type": "markdown",
   "metadata": {
    "toc": true
   },
   "source": [
    "<h1>Table of Contents<span class=\"tocSkip\"></span></h1>\n",
    "<div class=\"toc\"><ul class=\"toc-item\"><li><span><a href=\"#Given-information:\" data-toc-modified-id=\"Given-information:-1\"><span class=\"toc-item-num\">1&nbsp;&nbsp;</span>Given information:</a></span><ul class=\"toc-item\"><li><span><a href=\"#model:-continuous-univariate-normal-(Gaussian)-model-for-the-class-conditional-densities\" data-toc-modified-id=\"model:-continuous-univariate-normal-(Gaussian)-model-for-the-class-conditional-densities-1.1\"><span class=\"toc-item-num\">1.1&nbsp;&nbsp;</span>model: continuous univariate normal (Gaussian) model for the class-conditional densities</a></span></li><li><span><a href=\"#Prior-probabilities:\" data-toc-modified-id=\"Prior-probabilities:-1.2\"><span class=\"toc-item-num\">1.2&nbsp;&nbsp;</span>Prior probabilities:</a></span></li><li><span><a href=\"#Loss-functions:\" data-toc-modified-id=\"Loss-functions:-1.3\"><span class=\"toc-item-num\">1.3&nbsp;&nbsp;</span>Loss functions:</a></span></li><li><span><a href=\"#Variances-of-the-sample-distributions\" data-toc-modified-id=\"Variances-of-the-sample-distributions-1.4\"><span class=\"toc-item-num\">1.4&nbsp;&nbsp;</span>Variances of the sample distributions</a></span></li><li><span><a href=\"#Means-of-the-sample-distributions\" data-toc-modified-id=\"Means-of-the-sample-distributions-1.5\"><span class=\"toc-item-num\">1.5&nbsp;&nbsp;</span>Means of the sample distributions</a></span></li></ul></li><li><span><a href=\"#Deriving-the-decision-boundary\" data-toc-modified-id=\"Deriving-the-decision-boundary-2\"><span class=\"toc-item-num\">2&nbsp;&nbsp;</span>Deriving the decision boundary</a></span><ul class=\"toc-item\"><li><span><a href=\"#Bayes'-Rule:\" data-toc-modified-id=\"Bayes'-Rule:-2.1\"><span class=\"toc-item-num\">2.1&nbsp;&nbsp;</span>Bayes' Rule:</a></span></li><li><span><a href=\"#Risk-Functions:\" data-toc-modified-id=\"Risk-Functions:-2.2\"><span class=\"toc-item-num\">2.2&nbsp;&nbsp;</span>Risk Functions:</a></span></li><li><span><a href=\"#Decision-Rule:\" data-toc-modified-id=\"Decision-Rule:-2.3\"><span class=\"toc-item-num\">2.3&nbsp;&nbsp;</span>Decision Rule:</a></span></li><li><span><a href=\"#Given-values\" data-toc-modified-id=\"Given-values-2.4\"><span class=\"toc-item-num\">2.4&nbsp;&nbsp;</span>Given values</a></span></li></ul></li><li><span><a href=\"#Plotting-the-class-posterior-probabilities-and-decision-boundary\" data-toc-modified-id=\"Plotting-the-class-posterior-probabilities-and-decision-boundary-3\"><span class=\"toc-item-num\">3&nbsp;&nbsp;</span>Plotting the class posterior probabilities and decision boundary</a></span></li><li><span><a href=\"#Classifying-some-random-example-data\" data-toc-modified-id=\"Classifying-some-random-example-data-4\"><span class=\"toc-item-num\">4&nbsp;&nbsp;</span>Classifying some random example data</a></span></li><li><span><a href=\"#Calculating-the-empirical-error-rate\" data-toc-modified-id=\"Calculating-the-empirical-error-rate-5\"><span class=\"toc-item-num\">5&nbsp;&nbsp;</span>Calculating the empirical error rate</a></span></li></ul></div>"
   ]
  },
  {
   "cell_type": "code",
   "execution_count": 1,
   "metadata": {},
   "outputs": [
    {
     "data": {
      "text/html": [
       "<style>\n",
       "@import url('http://fonts.googleapis.com/css?family=Source+Code+Pro');\n",
       "@import url('http://fonts.googleapis.com/css?family=Lora');\n",
       "\n",
       ".CodeMirror pre, .CodeMirror-dialog, .CodeMirror-dialog .CodeMirror-search-field, .terminal-app .terminal {\n",
       "    font-family: YOUR-FAV-FONT;\n",
       "    font-size: 16pt;\n",
       "}\n",
       "\n",
       ".CodeMirror pre {\n",
       "    font-family: \"Ubuntu\", monospace;\n",
       "}\n",
       "    div.cell{\n",
       "        width: 950px;\n",
       "        #margin-left: 0% !important;\n",
       "        #margin-right: auto;\n",
       "    }\n",
       "    div.text_cell_render{\n",
       "        font-family: \"Ubuntu\";\n",
       "        line-height: 115%;\n",
       "        font-size: 140%;\n",
       "        text-align: justify;\n",
       "        text-justify:inter-word;\n",
       "    }\n",
       "    div.text_cell code {\n",
       "        background: transparent;\n",
       "        color: #000000;\n",
       "        font-weight: 400;\n",
       "        font-size: 12pt;\n",
       "        font-family:  'Source Code Pro', Consolas, monocco, monospace;\n",
       "   }\n",
       "    h1 {\n",
       "        font-family: \"Ubuntu\";\n",
       "\t}\n",
       "\n",
       "    div.input_area {\n",
       "        background: #F6F6F9;\n",
       "        border: 1px solid #586e75;\n",
       "    }\n",
       "\n",
       "    .text_cell_render h1 {\n",
       "        font-weight: 200;\n",
       "        font-size: 30pt;\n",
       "\t#font-style: italic;\n",
       "        line-height: 100%;\n",
       "        color:#1f499c;\n",
       "        #margin-bottom: 0.1em;\n",
       "        #margin-top: 0.1em;\n",
       "        display: block;\n",
       "        #white-space: wrap;\n",
       "        text-align: left;\n",
       "    }\n",
       "    h2 {\n",
       "\tfont-family: \"Ubuntu\";\n",
       "        #font-family: 'Open sans',verdana,arial,sans-serif;\n",
       "        text-align: left;\n",
       "    }\n",
       "    .text_cell_render h2 {\n",
       "        font-weight: 200;\n",
       "        font-size: 24pt;\n",
       "        #font-style: italic;\n",
       "        #line-height: 100%;\n",
       "        color:#54ad1c;\n",
       "        #margin-bottom: 0.1em;\n",
       "        #margin-top: 0.1em;\n",
       "        display: block;\n",
       "        white-space: wrap;\n",
       "        text-align: left;\n",
       "    }\n",
       "    h3 {\n",
       "        font-family: \"Ubuntu\";\n",
       "    }\n",
       "    .text_cell_render h3 {\n",
       "        font-weight: 200;\n",
       "        font-size: 18pt;\n",
       "        line-height: 100%;\n",
       "        color:#b44ff7;\n",
       "        #margin-bottom: 0.5em;\n",
       "        #margin-top: 2em;\n",
       "        display: block;\n",
       "        white-space: wrap;\n",
       "        text-align: left;\n",
       "    }\n",
       "    h4 {\n",
       "        font-family: 'Open sans',verdana,arial,sans-serif;\n",
       "    }\n",
       "    .text_cell_render h4 {\n",
       "        font-weight: 100;\n",
       "        font-size: 14pt;\n",
       "        color:#d77c0c;\n",
       "        #margin-bottom: 0.5em;\n",
       "        #margin-top: 0.5em;\n",
       "        display: block;\n",
       "        white-space: nowrap;\n",
       "    }\n",
       "    h5 {\n",
       "        font-family: 'Open sans',verdana,arial,sans-serif;\n",
       "    }\n",
       "\n",
       "    .text_cell_render h5 {\n",
       "        font-weight: 200;\n",
       "        font-style: normal;\n",
       "        color: #1d3b84;\n",
       "        font-size: 16pt;\n",
       "        #margin-bottom: 0em;\n",
       "        #margin-top: 0.5em;\n",
       "        display: block;\n",
       "        white-space: nowrap;\n",
       "    }\n",
       "    div.output_subarea.output_text.output_pyout {\n",
       "        overflow-x: auto;\n",
       "        overflow-y: visible;\n",
       "        max-height: 5000000px;\n",
       "    }\n",
       "    div.output_subarea.output_stream.output_stdout.output_text {\n",
       "        overflow-x: auto;\n",
       "        overflow-y: visible;\n",
       "        max-height: 5000000px;\n",
       "    }\n",
       "    div.output_wrapper{\n",
       "        #margin-top:0.2em;\n",
       "        #margin-bottom:0.2em;\n",
       "}\n",
       "\n",
       "    code{\n",
       "        font-size: 12pt;\n",
       "\n",
       "    }\n",
       "    .rendered_html code{\n",
       "    background-color: transparent;\n",
       "    }\n",
       "    ul{\n",
       "        #margin: 2em;\n",
       "    }\n",
       "    ul li{\n",
       "        #padding-left: 0.5em;\n",
       "        #margin-bottom: 0.5em;\n",
       "        #margin-top: 0.5em;\n",
       "    }\n",
       "    ul li li{\n",
       "        #padding-left: 0.2em;\n",
       "        #margin-bottom: 0.2em;\n",
       "        #margin-top: 0.2em;\n",
       "    }\n",
       "    ol{\n",
       "        #margin: 2em;\n",
       "    }\n",
       "    ol li{\n",
       "        #padding-left: 0.5em;\n",
       "        #margin-bottom: 0.5em;\n",
       "        #margin-top: 0.5em;\n",
       "    }\n",
       "    ul li{\n",
       "        #padding-left: 0.5em;\n",
       "        #margin-bottom: 0.5em;\n",
       "        #margin-top: 0.2em;\n",
       "    }\n",
       "    a:link{\n",
       "       color:#447adb;\n",
       "    }\n",
       "    a:visited{\n",
       "       color: #1d3b84;\n",
       "    }\n",
       "    a:hover{\n",
       "       color: #1d3b84;\n",
       "    }\n",
       "    a:focus{\n",
       "       color:#447adb;\n",
       "    }\n",
       "    a:active{\n",
       "       font-weight: bold;\n",
       "       color:#447adb;\n",
       "    }\n",
       "    .rendered_html :link {\n",
       "       text-decoration: underline;\n",
       "    }\n",
       "    .rendered_html :hover {\n",
       "       text-decoration: none;\n",
       "    }\n",
       "    .rendered_html :visited {\n",
       "      text-decoration: none;\n",
       "    }\n",
       "    .rendered_html :focus {\n",
       "      text-decoration: none;\n",
       "    }\n",
       "    .rendered_html :active {\n",
       "      text-decoration: none;\n",
       "    }\n",
       "    .warning{\n",
       "        color: rgb( 240, 20, 20 )\n",
       "    }\n",
       "    hr {\n",
       "      color: #f3f3f3;\n",
       "      background-color: #f3f3f3;\n",
       "      height: 1px;\n",
       "    }\n",
       "    blockquote{\n",
       "      display:block;\n",
       "      background: #fcfcfc;\n",
       "      border-left: 5px solid #c76c0c;\n",
       "      font-family: 'Open sans',verdana,arial,sans-serif;\n",
       "      width:680px;\n",
       "      #padding: 10px 10px 10px 10px;\n",
       "      text-align:justify;\n",
       "      text-justify:inter-word;\n",
       "      }\n",
       "      blockquote p {\n",
       "        margin-bottom: 0;\n",
       "        line-height: 125%;\n",
       "        font-size: 100%;\n",
       "      }\n",
       "</style>\n",
       "<script>\n",
       "    MathJax.Hub.Config({\n",
       "                        TeX: {\n",
       "                           extensions: [\"AMSmath.js\"],\n",
       "                           equationNumbers: { autoNumber: \"AMS\", useLabelIds: true}\n",
       "                           },\n",
       "                tex2jax: {\n",
       "                    inlineMath: [ ['$','$'], [\"\\\\(\",\"\\\\)\"] ],\n",
       "                    displayMath: [ ['$$','$$'], [\"\\\\[\",\"\\\\]\"] ]\n",
       "                },\n",
       "                displayAlign: 'center', // Change this to 'center' to center equations.\n",
       "                \"HTML-CSS\": {\n",
       "                    scale:95,\n",
       "                        availableFonts: [],\n",
       "                        preferredFont:null,\n",
       "                        webFont: \"TeX\",\n",
       "                    styles: {'.MathJax_Display': {\"margin\": 4}}\n",
       "                }\n",
       "        });\n",
       "</script>\n"
      ],
      "text/plain": [
       "<IPython.core.display.HTML object>"
      ]
     },
     "execution_count": 1,
     "metadata": {},
     "output_type": "execute_result"
    }
   ],
   "source": [
    "%matplotlib inline\n",
    "import os\n",
    "from IPython.core.display import HTML\n",
    "def load_style(directory = '../', name='customMac.css'):  \n",
    "        styles = open(os.path.join(directory, name), 'r').read()\n",
    "        return HTML(styles)\n",
    "load_style()"
   ]
  },
  {
   "cell_type": "code",
   "execution_count": 2,
   "metadata": {},
   "outputs": [],
   "source": [
    "#======= set default plotting properties =======\n",
    "import matplotlib as mpl\n",
    "from matplotlib import pyplot as plt\n",
    "mpl.rcParams['lines.linewidth'] = 1\n",
    "mpl.rcParams['font.size'] = 14\n",
    "mpl.rcParams['font.family'] = 'serif'\n",
    "mpl.rcParams['font.sans-serif'] = 'Computer Modern Roman'\n",
    "mpl.rcParams['lines.color'] = 'b'\n",
    "plt.rcParams['figure.figsize'] = 7, 4.5 # default figure size"
   ]
  },
  {
   "cell_type": "markdown",
   "metadata": {},
   "source": [
    "# Problem Category\n",
    "- Statistical Pattern Recognition   \n",
    "- Supervised Learning  \n",
    "- Parametric Learning  \n",
    "- Bayes Decision Theory  \n",
    "- Univariate data  \n",
    "- 2-class problem\n",
    "- different variances\n",
    "- different priors\n",
    "- Gaussian model (2 parameters)\n",
    "- With conditional Risk (loss functions)"
   ]
  },
  {
   "cell_type": "markdown",
   "metadata": {},
   "source": [
    "## Given information:\n",
    "### model: continuous univariate normal (Gaussian) model for the class-conditional densities\n",
    "\n",
    "$$ p(x | \\omega_j) \\sim N(\\mu|\\sigma^2) $$ \n",
    "$$ p(x | \\omega_j) \\sim \\frac{1}{\\sqrt{2\\pi}\\sigma} \\exp{ \\bigg[-\\frac{1}{2}\\bigg( \\frac{x-\\mu}{\\sigma}\\bigg)^2 \\bigg] } $$\n",
    "\n",
    "### Prior probabilities:\n",
    "\n",
    "$$ P(\\omega_1) = \\frac{2}{3}, \\quad P(\\omega_2) = \\frac{1}{3} $$\n",
    "\n",
    "### Loss functions:\n",
    "\n",
    "where \n",
    "\n",
    "$$ \\lambda(\\alpha_i|\\omega_j) = \\lambda_{ij}$$ \n",
    "\n",
    "the loss occured if $action_i$ is taken if the actual true class is $ \\omega_j$ (assuming that $action_i$ classifies sample as $\\omega_i$)\n",
    "\n",
    "\\begin{equation}\n",
    "\\lambda = \\begin{pmatrix}\n",
    "\\lambda_{11} \\quad \\lambda_{12} \\\\\n",
    "\\lambda_{21} \\quad \\lambda_{22}\n",
    "\\end{pmatrix}\n",
    "= \\begin{pmatrix}\n",
    "0 \\quad 1 \\\\\n",
    "2 \\quad 0 \\\\\n",
    "\\end{pmatrix}\\\\\n",
    "\\end{equation}\n",
    "\n",
    "### Variances of the sample distributions\n",
    "\n",
    "$$ \\sigma_1^2 = 0.25, \\quad \\sigma_2^2 = 0.04 $$\n",
    "\n",
    "### Means of the sample distributions\n",
    "\n",
    "$$ \\mu_1 = 2, \\quad \\mu_2 = 1.5 $$\n"
   ]
  },
  {
   "cell_type": "markdown",
   "metadata": {},
   "source": [
    "## Deriving the decision boundary\n",
    "### Bayes' Rule:\n",
    "\n",
    "\n",
    "$$ P(\\omega_j|x) = \\frac{p(x|\\omega_j) * P(\\omega_j)}{p(x)}$$\n"
   ]
  },
  {
   "cell_type": "markdown",
   "metadata": {},
   "source": [
    "### Risk Functions:\n",
    "\n",
    "$ R(\\alpha_1|x) = \\lambda_{11}P(\\omega_1|x) + \\lambda_{12}P(\\omega_2|x) $\n",
    "\n",
    "$ R(\\alpha_2|x) = \\lambda_{21}P(\\omega_1|x) + \\lambda_{22}P(\\omega_2|x) $\n",
    "\n"
   ]
  },
  {
   "cell_type": "markdown",
   "metadata": {},
   "source": [
    "### Decision Rule:\n",
    "\n",
    "$$Decide\\left\\{ {\\begin{array}{*{20}{c}}\n",
    "{{\\omega _1}}&{if~~R(\\alpha_2|x) > R(\\alpha_1|x)}\\\\\n",
    "{{\\omega _2}}&{otherwise}\n",
    "\\end{array}} \\right.$$"
   ]
  },
  {
   "cell_type": "markdown",
   "metadata": {},
   "source": [
    "$$ \\Rightarrow \\lambda_{21}P(\\omega_1|x) + \\lambda_{22}P(\\omega_2|x) > \\lambda_{11}P(\\omega_1|x) + \\lambda_{12}P(\\omega_2|x) $$\n",
    "\n",
    "$$ \\Rightarrow (\\lambda_{21} - \\lambda_{11}) \\; P(\\omega_1|x) > (\\lambda_{12} - \\lambda_{22}) \\; P(\\omega_2|x) $$\n",
    "\n",
    "$$ \\Rightarrow \\frac{P(\\omega_1|x)}{P(\\omega_2|x)} > \\frac{(\\lambda_{12} - \\lambda_{22})}{(\\lambda_{21} - \\lambda_{11})} $$\n",
    "\n",
    "$$ \\Rightarrow \\frac{p(x|\\omega_1) \\; P{(\\omega_1)}}{p(x|\\omega_2) \\; P{(\\omega_2)}} > \\frac{(\\lambda_{12} - \\lambda_{22})}{(\\lambda_{21} - \\lambda_{11})} $$\n",
    "\n",
    "$$ \\Rightarrow \\frac{p(x|\\omega_1)}{p(x|\\omega_2)} > \\frac{(\\lambda_{12} - \\lambda_{22}) \\; P{(\\omega_2)}}{(\\lambda_{21} - \\lambda_{11}) \\; P{(\\omega_1)}} $$\n"
   ]
  },
  {
   "cell_type": "markdown",
   "metadata": {},
   "source": [
    "\n",
    "$$ \\Rightarrow \\frac{p(x|\\omega_1)}{p(x|\\omega_2)} > \\frac{(1 - 0) \\; (1/3)}{(2 - 0) \\; (2/3)} $$\n",
    "\n",
    "$$ \\Rightarrow \\frac{p(x|\\omega_1)}{p(x|\\omega_2)} > \\frac{1}{4} $$\n"
   ]
  },
  {
   "cell_type": "markdown",
   "metadata": {},
   "source": [
    "### Given values\n",
    "\n",
    "$$\\sigma_1^2 = 0.25, \\quad \\sigma_2^2 = 0.04, \\quad \\mu_1 = 2, \\quad \\mu_2 = 1.5$$"
   ]
  },
  {
   "cell_type": "markdown",
   "metadata": {},
   "source": [
    "$$ \\Rightarrow  \\Bigg( \\frac{1}{\\sqrt{2\\pi}\\sigma_1} \\exp{ \\bigg[-\\frac{1}{2}\\bigg( \\frac{x-\\mu_1}{\\sigma_1}\\bigg)^2 \\bigg] } \\Bigg) \\Bigg/  \\Bigg( \\frac{1}{\\sqrt{2\\pi}\\sigma_2}  \\exp{ \\bigg[-\\frac{1}{2}\\bigg( \\frac{x-\\mu_2}{\\sigma_2}\\bigg)^2 \\bigg] } \\Bigg)> \\frac{1}{4} \\quad $$"
   ]
  },
  {
   "cell_type": "markdown",
   "metadata": {},
   "source": [
    "$$ \\Rightarrow  \\Bigg( \\frac{1}{\\sqrt{2\\pi}\\times 0.5} \\exp{ \\bigg[-\\frac{1}{2}\\bigg( \\frac{x-2}{0.5}\\bigg)^2 \\bigg] } \\Bigg) \\Bigg/  \\Bigg( \\frac{1}{\\sqrt{2\\pi}\\times 0.2}  \\exp{ \\bigg[-\\frac{1}{2}\\bigg( \\frac{x-1.5}{0.2}\\bigg)^2 \\bigg] } \\Bigg)> \\frac{1}{4}  $$"
   ]
  },
  {
   "cell_type": "markdown",
   "metadata": {},
   "source": [
    "$$ \\Rightarrow  \\Bigg( 2 \\; \\cdot \\;\\frac{1}{\\sqrt{2\\pi}} \\exp{ \\bigg[-2 \\; \\cdot \\; (x-2)^2 \\bigg] } \\Bigg) \\Bigg/  \\Bigg( 5 \\; \\cdot \\; \\frac{1}{\\sqrt{2\\pi}}  \\exp{ \\bigg[-12.5 \\; \\cdot \\; (x-1.5)^2 \\bigg] } \\Bigg)> \\frac{1}{4}  $$"
   ]
  },
  {
   "cell_type": "markdown",
   "metadata": {},
   "source": [
    "$$ \\Rightarrow \\frac{2}{5} \\Bigg( \\exp{ \\bigg[-2 \\; \\cdot \\; (x-2)^2 \\bigg] } \\Bigg) \\Bigg/ \\Bigg( \\exp{ \\bigg[-12.5 \\; \\cdot \\; (x-1.5)^2 \\bigg] } \\Bigg) \\Bigg) > \\frac{1}{4} $$"
   ]
  },
  {
   "cell_type": "markdown",
   "metadata": {},
   "source": [
    "$$ \\Rightarrow \\bigg(-2(x-2)^2 \\bigg) - \\bigg(-12.5 (x-1.5)^2 \\bigg) > ln \\bigg(\\frac{5}{8}\\bigg) $$"
   ]
  },
  {
   "cell_type": "markdown",
   "metadata": {},
   "source": [
    "$$ \\Rightarrow -2(x-2)^2 + 12.5 (x-1.5)^2  - 0.47 > 0 $$"
   ]
  },
  {
   "cell_type": "markdown",
   "metadata": {},
   "source": [
    "$$ \\Rightarrow -2x^2 + 8x -8 + 12.5x^2 - 37.5x + 27.655 > 0 $$"
   ]
  },
  {
   "cell_type": "markdown",
   "metadata": {},
   "source": [
    "$$ \\Rightarrow 10.5 x^2-29.5 x+19.655 > 0$$"
   ]
  },
  {
   "cell_type": "markdown",
   "metadata": {},
   "source": [
    "$$ \\Rightarrow x = 1.08625 \\quad and \\quad x = 1.72328 $$"
   ]
  },
  {
   "cell_type": "markdown",
   "metadata": {},
   "source": [
    "## Plotting the class posterior probabilities and decision boundary"
   ]
  },
  {
   "cell_type": "code",
   "execution_count": 6,
   "metadata": {},
   "outputs": [
    {
     "name": "stdout",
     "output_type": "stream",
     "text": [
      "Populating the interactive namespace from numpy and matplotlib\n"
     ]
    },
    {
     "data": {
      "image/png": "[encoded data removed]",
      "text/plain": [
       "<Figure size 432x288 with 1 Axes>"
      ]
     },
     "metadata": {
      "needs_background": "light"
     },
     "output_type": "display_data"
    }
   ],
   "source": [
    "%pylab inline\n",
    "\n",
    "import numpy as np\n",
    "from matplotlib import pyplot as plt\n",
    "\n",
    "def pdf(x, mu, sigma_sqr):\n",
    "    \"\"\"\n",
    "    Calculates the normal distribution's probability density \n",
    "    function (PDF).  \n",
    "        \n",
    "    \"\"\"\n",
    "    term1 = 1.0 / ( math.sqrt(2*np.pi * sigma_sqr))\n",
    "    term2 = np.exp( (-1/2.0) * ( ((x-mu)**2 / sigma_sqr) ))\n",
    "    return term1 * term2\n",
    "\n",
    "# generating some sample data\n",
    "x = np.arange(0, 50, 0.05)\n",
    "\n",
    "def posterior(likelihood, prior):\n",
    "    \"\"\"\n",
    "    Calculates the posterior probability (after Bayes Rule) without\n",
    "    the scale factor p(x) (=evidence).  \n",
    "        \n",
    "    \"\"\"\n",
    "    return likelihood * prior\n",
    "\n",
    "# probability density functions\n",
    "posterior1 = posterior(pdf(x, mu=2, sigma_sqr=0.25), prior=2/3.0)\n",
    "posterior2 = posterior(pdf(x, mu=1.5, sigma_sqr=0.04), prior=1/3.0)\n",
    "\n",
    "# Class conditional densities (likelihoods)\n",
    "plt.plot(x, posterior1)\n",
    "plt.plot(x, posterior2)\n",
    "plt.title('Posterior Probabilities vs. Decision Boundary')\n",
    "plt.ylabel('$P(\\omega_i/x)$')\n",
    "plt.xlabel('random variable $x$')\n",
    "plt.legend(['$P(\\omega_1|x)$', '$P(\\omega_2|x)$'], loc='upper right')\n",
    "plt.ylim([0,1])\n",
    "plt.xlim([0,4])\n",
    "plt.axvline(1.08625, color='r', alpha=0.8, linestyle=':', linewidth=2)\n",
    "plt.axvline(1.72328, color='r', alpha=0.8, linestyle=':', linewidth=2)\n",
    "plt.annotate('R1', xy=(0.5, 0.8), xytext=(0.5, 0.8))\n",
    "plt.annotate('R2', xy=(1.3, 0.8), xytext=(1.3, 0.8))\n",
    "plt.annotate('R1', xy=(2.3, 0.8), xytext=(2.3, 0.8))\n",
    "plt.show()"
   ]
  },
  {
   "cell_type": "markdown",
   "metadata": {},
   "source": [
    "## Classifying some random example data"
   ]
  },
  {
   "cell_type": "code",
   "execution_count": 9,
   "metadata": {},
   "outputs": [
    {
     "data": {
      "image/png": "[encoded data removed]",
      "text/plain": [
       "<Figure size 432x288 with 1 Axes>"
      ]
     },
     "metadata": {
      "needs_background": "light"
     },
     "output_type": "display_data"
    }
   ],
   "source": [
    "# Parameters\n",
    "mu_1 = 2\n",
    "mu_2 = 1.5\n",
    "sigma_1_sqr = 0.25\n",
    "sigma_2_sqr = 0.04\n",
    "\n",
    "# Generating 10 random samples drawn from a Normal Distribution for class 1 & 2\n",
    "x1_samples = sigma_1_sqr**0.5 * np.random.randn(10) + mu_1\n",
    "x2_samples = sigma_1_sqr**0.5 * np.random.randn(10) + mu_2\n",
    "y = [0 for i in range(10)]\n",
    "\n",
    "# Plotting sample data with a decision boundary\n",
    "\n",
    "plt.scatter(x1_samples, y, marker='o', color='green', s=40, alpha=0.5)\n",
    "plt.scatter(x2_samples, y, marker='^', color='blue', s=40, alpha=0.5)\n",
    "plt.title('Classifying random example data from 2 classes')\n",
    "plt.ylabel('$p(x)$')\n",
    "plt.xlabel('random variable x')\n",
    "plt.legend(['$\\omega_1$', '$\\omega_2$'], loc='upper right')\n",
    "plt.ylim([-1,1])\n",
    "plt.xlim([0,4])\n",
    "plt.axvline(1.08625, color='r', alpha=0.8, linestyle=':', linewidth=2)\n",
    "plt.axvline(1.72328, color='r', alpha=0.8, linestyle=':', linewidth=2)\n",
    "plt.annotate('R1', xy=(0.5, 0.8), xytext=(0.5, 0.8))\n",
    "plt.annotate('R2', xy=(1.3, 0.8), xytext=(1.3, 0.8))\n",
    "plt.annotate('R1', xy=(2.3, 0.8), xytext=(2.3, 0.8))\n",
    "plt.show()"
   ]
  },
  {
   "cell_type": "markdown",
   "metadata": {},
   "source": [
    "## Calculating the empirical error rate"
   ]
  },
  {
   "cell_type": "code",
   "execution_count": 11,
   "metadata": {},
   "outputs": [
    {
     "name": "stdout",
     "output_type": "stream",
     "text": [
      "Empirical Error: 20.0%\n"
     ]
    }
   ],
   "source": [
    "w1_as_w2, w2_as_w1 = 0, 0\n",
    "for x1,x2 in zip(x1_samples, x2_samples):\n",
    "    if x1 > 1.08625 and x1 < 1.72328:\n",
    "        w1_as_w2 += 1\n",
    "    if x2 <= 1.08625 and x2 >= 1.72328:\n",
    "        w2_as_w1 += 1\n",
    "\n",
    "emp_err =  (w1_as_w2 + w2_as_w1) / float(len(x1_samples) + len(x2_samples))\n",
    "    \n",
    "print('Empirical Error: {}%'.format(emp_err * 100))"
   ]
  },
  {
   "cell_type": "code",
   "execution_count": null,
   "metadata": {},
   "outputs": [],
   "source": []
  }
 ],
 "metadata": {
  "kernelspec": {
   "display_name": "Python 3",
   "language": "python",
   "name": "python3"
  },
  "language_info": {
   "codemirror_mode": {
    "name": "ipython",
    "version": 3
   },
   "file_extension": ".py",
   "mimetype": "text/x-python",
   "name": "python",
   "nbconvert_exporter": "python",
   "pygments_lexer": "ipython3",
   "version": "3.6.10"
  },
  "toc": {
   "base_numbering": 1,
   "nav_menu": {},
   "number_sections": true,
   "sideBar": true,
   "skip_h1_title": true,
   "title_cell": "Table of Contents",
   "title_sidebar": "Contents",
   "toc_cell": true,
   "toc_position": {},
   "toc_section_display": true,
   "toc_window_display": false
  }
 },
 "nbformat": 4,
 "nbformat_minor": 1
}

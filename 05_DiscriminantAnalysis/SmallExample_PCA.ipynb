{
 "cells": [
  {
   "cell_type": "markdown",
   "metadata": {
    "toc": true
   },
   "source": [
    "<h1>Table of Contents<span class=\"tocSkip\"></span></h1>\n",
    "<div class=\"toc\"><ul class=\"toc-item\"><li><span><a href=\"#Example-Problem:\" data-toc-modified-id=\"Example-Problem:-1\"><span class=\"toc-item-num\">1&nbsp;&nbsp;</span>Example Problem:</a></span></li><li><span><a href=\"#Solution\" data-toc-modified-id=\"Solution-2\"><span class=\"toc-item-num\">2&nbsp;&nbsp;</span>Solution</a></span><ul class=\"toc-item\"><li><span><a href=\"#Sorting-Eigenpairs\" data-toc-modified-id=\"Sorting-Eigenpairs-2.1\"><span class=\"toc-item-num\">2.1&nbsp;&nbsp;</span>Sorting Eigenpairs</a></span></li><li><span><a href=\"#Projection-of-feature-vector-in-one-dimensional-feature-space\" data-toc-modified-id=\"Projection-of-feature-vector-in-one-dimensional-feature-space-2.2\"><span class=\"toc-item-num\">2.2&nbsp;&nbsp;</span>Projection of feature vector in one-dimensional feature space</a></span></li><li><span><a href=\"#Reconstruction-of-feature-vector\" data-toc-modified-id=\"Reconstruction-of-feature-vector-2.3\"><span class=\"toc-item-num\">2.3&nbsp;&nbsp;</span>Reconstruction of feature vector</a></span></li></ul></li><li><span><a href=\"#Iris-Dataset\" data-toc-modified-id=\"Iris-Dataset-3\"><span class=\"toc-item-num\">3&nbsp;&nbsp;</span>Iris Dataset</a></span></li></ul></div>"
   ]
  },
  {
   "cell_type": "code",
   "execution_count": 1,
   "metadata": {},
   "outputs": [
    {
     "data": {
      "text/html": [
       "<style>\n",
       "@import url('http://fonts.googleapis.com/css?family=Source+Code+Pro');\n",
       "@import url('http://fonts.googleapis.com/css?family=Lora');\n",
       "\n",
       ".CodeMirror pre, .CodeMirror-dialog, .CodeMirror-dialog .CodeMirror-search-field, .terminal-app .terminal {\n",
       "    font-family: YOUR-FAV-FONT;\n",
       "    font-size: 16pt;\n",
       "}\n",
       "\n",
       ".CodeMirror pre {\n",
       "    font-family: \"Ubuntu\", monospace;\n",
       "}\n",
       "    div.cell{\n",
       "        width: 950px;\n",
       "        #margin-left: 0% !important;\n",
       "        #margin-right: auto;\n",
       "    }\n",
       "    div.text_cell_render{\n",
       "        font-family: \"Ubuntu\";\n",
       "        line-height: 115%;\n",
       "        font-size: 140%;\n",
       "        text-align: justify;\n",
       "        text-justify:inter-word;\n",
       "    }\n",
       "    div.text_cell code {\n",
       "        background: transparent;\n",
       "        color: #000000;\n",
       "        font-weight: 400;\n",
       "        font-size: 12pt;\n",
       "        font-family:  'Source Code Pro', Consolas, monocco, monospace;\n",
       "   }\n",
       "    h1 {\n",
       "        font-family: \"Ubuntu\";\n",
       "\t}\n",
       "\n",
       "    div.input_area {\n",
       "        background: #F6F6F9;\n",
       "        border: 1px solid #586e75;\n",
       "    }\n",
       "\n",
       "    .text_cell_render h1 {\n",
       "        font-weight: 200;\n",
       "        font-size: 30pt;\n",
       "\t#font-style: italic;\n",
       "        line-height: 100%;\n",
       "        color:#1f499c;\n",
       "        #margin-bottom: 0.1em;\n",
       "        #margin-top: 0.1em;\n",
       "        display: block;\n",
       "        #white-space: wrap;\n",
       "        text-align: left;\n",
       "    }\n",
       "    h2 {\n",
       "\tfont-family: \"Ubuntu\";\n",
       "        #font-family: 'Open sans',verdana,arial,sans-serif;\n",
       "        text-align: left;\n",
       "    }\n",
       "    .text_cell_render h2 {\n",
       "        font-weight: 200;\n",
       "        font-size: 24pt;\n",
       "        #font-style: italic;\n",
       "        #line-height: 100%;\n",
       "        color:#54ad1c;\n",
       "        #margin-bottom: 0.1em;\n",
       "        #margin-top: 0.1em;\n",
       "        display: block;\n",
       "        white-space: wrap;\n",
       "        text-align: left;\n",
       "    }\n",
       "    h3 {\n",
       "        font-family: \"Ubuntu\";\n",
       "    }\n",
       "    .text_cell_render h3 {\n",
       "        font-weight: 200;\n",
       "        font-size: 18pt;\n",
       "        line-height: 100%;\n",
       "        color:#b44ff7;\n",
       "        #margin-bottom: 0.5em;\n",
       "        #margin-top: 2em;\n",
       "        display: block;\n",
       "        white-space: wrap;\n",
       "        text-align: left;\n",
       "    }\n",
       "    h4 {\n",
       "        font-family: 'Open sans',verdana,arial,sans-serif;\n",
       "    }\n",
       "    .text_cell_render h4 {\n",
       "        font-weight: 100;\n",
       "        font-size: 14pt;\n",
       "        color:#d77c0c;\n",
       "        #margin-bottom: 0.5em;\n",
       "        #margin-top: 0.5em;\n",
       "        display: block;\n",
       "        white-space: nowrap;\n",
       "    }\n",
       "    h5 {\n",
       "        font-family: 'Open sans',verdana,arial,sans-serif;\n",
       "    }\n",
       "\n",
       "    .text_cell_render h5 {\n",
       "        font-weight: 200;\n",
       "        font-style: normal;\n",
       "        color: #1d3b84;\n",
       "        font-size: 16pt;\n",
       "        #margin-bottom: 0em;\n",
       "        #margin-top: 0.5em;\n",
       "        display: block;\n",
       "        white-space: nowrap;\n",
       "    }\n",
       "    div.output_subarea.output_text.output_pyout {\n",
       "        overflow-x: auto;\n",
       "        overflow-y: visible;\n",
       "        max-height: 5000000px;\n",
       "    }\n",
       "    div.output_subarea.output_stream.output_stdout.output_text {\n",
       "        overflow-x: auto;\n",
       "        overflow-y: visible;\n",
       "        max-height: 5000000px;\n",
       "    }\n",
       "    div.output_wrapper{\n",
       "        #margin-top:0.2em;\n",
       "        #margin-bottom:0.2em;\n",
       "}\n",
       "\n",
       "    code{\n",
       "        font-size: 12pt;\n",
       "\n",
       "    }\n",
       "    .rendered_html code{\n",
       "    background-color: transparent;\n",
       "    }\n",
       "    ul{\n",
       "        #margin: 2em;\n",
       "    }\n",
       "    ul li{\n",
       "        #padding-left: 0.5em;\n",
       "        #margin-bottom: 0.5em;\n",
       "        #margin-top: 0.5em;\n",
       "    }\n",
       "    ul li li{\n",
       "        #padding-left: 0.2em;\n",
       "        #margin-bottom: 0.2em;\n",
       "        #margin-top: 0.2em;\n",
       "    }\n",
       "    ol{\n",
       "        #margin: 2em;\n",
       "    }\n",
       "    ol li{\n",
       "        #padding-left: 0.5em;\n",
       "        #margin-bottom: 0.5em;\n",
       "        #margin-top: 0.5em;\n",
       "    }\n",
       "    ul li{\n",
       "        #padding-left: 0.5em;\n",
       "        #margin-bottom: 0.5em;\n",
       "        #margin-top: 0.2em;\n",
       "    }\n",
       "    a:link{\n",
       "       color:#447adb;\n",
       "    }\n",
       "    a:visited{\n",
       "       color: #1d3b84;\n",
       "    }\n",
       "    a:hover{\n",
       "       color: #1d3b84;\n",
       "    }\n",
       "    a:focus{\n",
       "       color:#447adb;\n",
       "    }\n",
       "    a:active{\n",
       "       font-weight: bold;\n",
       "       color:#447adb;\n",
       "    }\n",
       "    .rendered_html :link {\n",
       "       text-decoration: underline;\n",
       "    }\n",
       "    .rendered_html :hover {\n",
       "       text-decoration: none;\n",
       "    }\n",
       "    .rendered_html :visited {\n",
       "      text-decoration: none;\n",
       "    }\n",
       "    .rendered_html :focus {\n",
       "      text-decoration: none;\n",
       "    }\n",
       "    .rendered_html :active {\n",
       "      text-decoration: none;\n",
       "    }\n",
       "    .warning{\n",
       "        color: rgb( 240, 20, 20 )\n",
       "    }\n",
       "    hr {\n",
       "      color: #f3f3f3;\n",
       "      background-color: #f3f3f3;\n",
       "      height: 1px;\n",
       "    }\n",
       "    blockquote{\n",
       "      display:block;\n",
       "      background: #fcfcfc;\n",
       "      border-left: 5px solid #c76c0c;\n",
       "      font-family: 'Open sans',verdana,arial,sans-serif;\n",
       "      width:680px;\n",
       "      #padding: 10px 10px 10px 10px;\n",
       "      text-align:justify;\n",
       "      text-justify:inter-word;\n",
       "      }\n",
       "      blockquote p {\n",
       "        margin-bottom: 0;\n",
       "        line-height: 125%;\n",
       "        font-size: 100%;\n",
       "      }\n",
       "</style>\n",
       "<script>\n",
       "    MathJax.Hub.Config({\n",
       "                        TeX: {\n",
       "                           extensions: [\"AMSmath.js\"],\n",
       "                           equationNumbers: { autoNumber: \"AMS\", useLabelIds: true}\n",
       "                           },\n",
       "                tex2jax: {\n",
       "                    inlineMath: [ ['$','$'], [\"\\\\(\",\"\\\\)\"] ],\n",
       "                    displayMath: [ ['$$','$$'], [\"\\\\[\",\"\\\\]\"] ]\n",
       "                },\n",
       "                displayAlign: 'center', // Change this to 'center' to center equations.\n",
       "                \"HTML-CSS\": {\n",
       "                    scale:95,\n",
       "                        availableFonts: [],\n",
       "                        preferredFont:null,\n",
       "                        webFont: \"TeX\",\n",
       "                    styles: {'.MathJax_Display': {\"margin\": 4}}\n",
       "                }\n",
       "        });\n",
       "</script>\n"
      ],
      "text/plain": [
       "<IPython.core.display.HTML object>"
      ]
     },
     "execution_count": 1,
     "metadata": {},
     "output_type": "execute_result"
    }
   ],
   "source": [
    "%matplotlib inline\n",
    "import os\n",
    "from IPython.core.display import HTML\n",
    "def load_style(directory = '../', name='customMac.css'):  \n",
    "        styles = open(os.path.join(directory, name), 'r').read()\n",
    "        return HTML(styles)\n",
    "load_style()"
   ]
  },
  {
   "cell_type": "code",
   "execution_count": 2,
   "metadata": {},
   "outputs": [],
   "source": [
    "import matplotlib as mpl\n",
    "from matplotlib import pyplot as plt\n",
    "#======= set default plotting properties =======\n",
    "mpl.rcParams['lines.linewidth'] = 1\n",
    "mpl.rcParams['font.size'] = 18\n",
    "mpl.rcParams['font.family'] = 'serif'\n",
    "mpl.rcParams['font.sans-serif'] = 'Computer Modern Roman'\n",
    "mpl.rcParams['lines.color'] = 'b'\n",
    "plt.rcParams['figure.figsize'] = 7, 4.5 # default figure size\n",
    "plt.rc('text', usetex=True)\n",
    "plt.rc('font', family='serif')"
   ]
  },
  {
   "cell_type": "markdown",
   "metadata": {},
   "source": [
    "## Example Problem:\n",
    "Given the following sets of feature vector belonging to two classes $\\omega_1$ and $\\omega_2$ which is Gaussian distributed.\n",
    "\n",
    "$$\\begin{gathered}\n",
    "  \\left\\{ {\\left( {\\begin{array}{*{20}{c}}\n",
    "  1 \\\\ \n",
    "  2 \n",
    "\\end{array}} \\right),\\left( {\\begin{array}{*{20}{c}}\n",
    "  3 \\\\ \n",
    "  5 \n",
    "\\end{array}} \\right),\\left( {\\begin{array}{*{20}{c}}\n",
    "  4 \\\\ \n",
    "  3 \n",
    "\\end{array}} \\right),\\left( {\\begin{array}{*{20}{c}}\n",
    "  5 \\\\ \n",
    "  6 \n",
    "\\end{array}} \\right),\\left( {\\begin{array}{*{20}{c}}\n",
    "  7 \\\\ \n",
    "  5 \n",
    "\\end{array}} \\right)} \\right\\} \\in {\\omega _1} \\hfill \\\\\n",
    "  \\left\\{ {\\left( {\\begin{array}{*{20}{c}}\n",
    "  6 \\\\ \n",
    "  2 \n",
    "\\end{array}} \\right),\\left( {\\begin{array}{*{20}{c}}\n",
    "  9 \\\\ \n",
    "  4 \n",
    "\\end{array}} \\right),\\left( {\\begin{array}{*{20}{c}}\n",
    "  {10} \\\\ \n",
    "  1 \n",
    "\\end{array}} \\right),\\left( {\\begin{array}{*{20}{c}}\n",
    "  {12} \\\\ \n",
    "  3 \n",
    "\\end{array}} \\right),\\left( {\\begin{array}{*{20}{c}}\n",
    "  {13} \\\\ \n",
    "  6 \n",
    "\\end{array}} \\right)} \\right\\} \\in {\\omega _2} \\hfill \\\\ \n",
    "\\end{gathered} $$\n",
    "\n",
    "The vector are projected onto a line to represent the feature vectors by a single feature. "
   ]
  },
  {
   "cell_type": "markdown",
   "metadata": {},
   "source": [
    "## Solution\n",
    "For the best representation of the feature vector class labels are not required. Therefore, we can consider all the feature vectors to compute the one-dimensional representation of the feature vectors."
   ]
  },
  {
   "cell_type": "code",
   "execution_count": 3,
   "metadata": {},
   "outputs": [
    {
     "name": "stdout",
     "output_type": "stream",
     "text": [
      "(10, 2)\n"
     ]
    }
   ],
   "source": [
    "import numpy as np\n",
    "from matplotlib import pyplot as plt\n",
    "X = np.asarray([[1,2],\n",
    "     [3,4],\n",
    "     [4,3],\n",
    "     [5,5],\n",
    "     [7,5],\n",
    "     [6,2],\n",
    "     [9,4],\n",
    "     [7,3],\n",
    "     [11,4],\n",
    "     [13,6]])\n",
    "print(X.shape)"
   ]
  },
  {
   "cell_type": "code",
   "execution_count": 10,
   "metadata": {},
   "outputs": [
    {
     "data": {
      "image/png": "[encoded data removed]",
      "text/plain": [
       "<Figure size 504x324 with 1 Axes>"
      ]
     },
     "metadata": {
      "needs_background": "light"
     },
     "output_type": "display_data"
    }
   ],
   "source": [
    "plt.scatter(X[:5,0],X[:5,1])\n",
    "plt.scatter(X[5:,0],X[5:,1])\n",
    "plt.xlabel('$x_1$')\n",
    "plt.ylabel('$x_2$')\n",
    "plt.xlim([-2,16])\n",
    "plt.ylim([0,8])\n",
    "plt.savefig('scatterPlot.pdf')"
   ]
  },
  {
   "cell_type": "code",
   "execution_count": null,
   "metadata": {},
   "outputs": [],
   "source": [
    "import numpy as np\n",
    "mean_vec = np.mean(X, axis=0)\n",
    "print('Mean Vector',mean_vec)\n",
    "zeroCentered_X = X-mean_vec\n",
    "std_vec = np.std(X,axis = 0)\n",
    "print('Standard deviation',std_vec)\n",
    "# X_std = (X-mean_vec)/std_vec\n",
    "\n",
    "scatter_X = (X - mean_vec).T.dot((X - mean_vec))\n",
    "print('Scatter matrix = \\n%s' %scatter_X)"
   ]
  },
  {
   "cell_type": "code",
   "execution_count": null,
   "metadata": {},
   "outputs": [],
   "source": [
    "import numpy as np\n",
    "\n",
    "eig_vals, eig_vecs = np.linalg.eig(scatter_X)\n",
    "\n",
    "print('Eigenvectors \\n%s' %eig_vecs)\n",
    "print('\\nEigenvalues \\n%s' %eig_vals)"
   ]
  },
  {
   "cell_type": "markdown",
   "metadata": {},
   "source": [
    "### Sorting Eigenpairs"
   ]
  },
  {
   "cell_type": "code",
   "execution_count": null,
   "metadata": {},
   "outputs": [],
   "source": [
    "for ev in eig_vecs.T:\n",
    "    np.testing.assert_array_almost_equal(1.0, np.linalg.norm(ev))\n",
    "print('Everything ok!')"
   ]
  },
  {
   "cell_type": "code",
   "execution_count": null,
   "metadata": {},
   "outputs": [],
   "source": [
    "A = eig_vecs\n",
    "A = A.reshape(2,-1)\n",
    "A"
   ]
  },
  {
   "cell_type": "markdown",
   "metadata": {},
   "source": [
    "### Projection of feature vector in one-dimensional feature space"
   ]
  },
  {
   "cell_type": "code",
   "execution_count": null,
   "metadata": {},
   "outputs": [],
   "source": [
    "P = X.dot(A)\n",
    "P = P.reshape(10,-1)  # P is the projection matrix\n",
    "P"
   ]
  },
  {
   "cell_type": "markdown",
   "metadata": {},
   "source": [
    "### Reconstruction of feature vector"
   ]
  },
  {
   "cell_type": "code",
   "execution_count": null,
   "metadata": {},
   "outputs": [],
   "source": [
    "P.dot(A.T)"
   ]
  },
  {
   "cell_type": "markdown",
   "metadata": {},
   "source": [
    "## Iris Dataset "
   ]
  },
  {
   "cell_type": "code",
   "execution_count": null,
   "metadata": {},
   "outputs": [],
   "source": [
    "import matplotlib.pyplot as plt\n",
    "import pandas as pd\n",
    "from sklearn import datasets\n",
    "from pandas.plotting import scatter_matrix\n",
    "from matplotlib import cm\n",
    "plt.rcParams['figure.figsize'] = 14, 10 # default figure size\n",
    "mpl.rcParams['font.size'] = 16\n",
    "#loading dataset\n",
    "iris = datasets.load_iris()\n",
    "#creating data frame for pandas\n",
    "dataframe = pd.DataFrame(iris['data'], columns=iris['feature_names'])\n",
    "#ploting scatter graph of species comparing all features to each other\n",
    "scatter_matrix(dataframe, c=iris['target'], \n",
    "                        marker='o', \n",
    "                        hist_kwds={'bins': 20}, edgecolor='k',\n",
    "                        s=40, cmap = cm.jet)\n",
    "plt.savefig('ScatterIris.pdf')\n",
    "plt.show()"
   ]
  },
  {
   "cell_type": "code",
   "execution_count": null,
   "metadata": {},
   "outputs": [],
   "source": [
    "# Load the data\n",
    "from sklearn import datasets\n",
    "from sklearn.decomposition import PCA\n",
    "from matplotlib import pyplot as plt\n",
    "plt.rcParams['figure.figsize'] = 7, 4.5 # default figure size\n",
    "mpl.rcParams['font.size'] = 18\n",
    "# import some data to play with\n",
    "iris = datasets.load_iris()\n",
    "X = iris.data  # we only take the first two features.\n",
    "y = iris.target\n",
    "\n",
    "X_reduced = PCA(n_components=2).fit_transform(iris.data)\n",
    "X_reduced.shape\n",
    "# The indices of the features that we are plotting\n",
    "x_index = 0\n",
    "y_index = 1\n",
    "\n",
    "color = ['Iris-setosa', 'Iris-versicolor', 'Iris-virginica']\n",
    "\n",
    "# this formatter will label the colorbar with the correct target names\n",
    "formatter = plt.FuncFormatter(lambda i, *args: iris.target_names[int(i)])\n",
    "\n",
    "plt.scatter(X_reduced[:,0], X_reduced[:,1], c=iris.target,edgecolor='k', s=40)\n",
    "plt.legend(handles=scatter.legend_elements()[0], labels=color,fontsize=14)\n",
    "plt.xlabel('1st eigenvector, $e_1$')\n",
    "plt.ylabel('2nd eigenvector, $e_2$')\n",
    "\n",
    "# plt.xlim(x_min, x_max)\n",
    "# plt.ylim(y_min, y_max)\n",
    "# plt.xticks(())\n",
    "# plt.yticks(())\n",
    "\n",
    "plt.tight_layout()\n",
    "plt.savefig('2dPCA.pdf')\n",
    "plt.show()"
   ]
  },
  {
   "cell_type": "code",
   "execution_count": null,
   "metadata": {},
   "outputs": [],
   "source": [
    "# Load the data\n",
    "from sklearn import datasets\n",
    "from sklearn.decomposition import PCA\n",
    "from matplotlib import pyplot as plt\n",
    "\n",
    "\n",
    "# import some data to play with\n",
    "iris = datasets.load_iris()\n",
    "X = iris.data  # we only take the first two features.\n",
    "y = iris.target\n",
    "\n",
    "# x_min, x_max = X[:, 0].min() - .5, X[:, 0].max() + .5\n",
    "# y_min, y_max = X[:, 1].min() - .5, X[:, 1].max() + .5\n",
    "\n",
    "X_reduced = PCA(n_components=3).fit_transform(iris.data)\n",
    "X_reduced.shape\n",
    "# The indices of the features that we are plotting\n",
    "x_index = 0\n",
    "y_index = 1\n",
    "\n",
    "color = ['Iris-setosa', 'Iris-versicolor', 'Iris-virginica']\n",
    "\n",
    "# To getter a better understanding of interaction of the dimensions\n",
    "# plot the first three PCA dimensions\n",
    "fig = plt.figure(1, figsize=(8, 6))\n",
    "ax = Axes3D(fig, elev=-150, azim=250)\n",
    "ax.scatter(X_reduced[:, 0], X_reduced[:, 1], X_reduced[:, 2], c=y,\n",
    "            edgecolor='k', s=40)\n",
    "\n",
    "ax.legend(handles=scatter.legend_elements()[0], labels=color,fontsize=14)\n",
    "ax.set_xlabel(\"1st eigenvector, $e_1$\")\n",
    "ax.w_xaxis.set_ticklabels([])\n",
    "ax.set_ylabel(\"2nd eigenvector, $e_2$\")\n",
    "ax.w_yaxis.set_ticklabels([])\n",
    "ax.set_zlabel(\"3rd eigenvector, $e_3$\")\n",
    "ax.w_zaxis.set_ticklabels([])\n",
    "\n",
    "plt.savefig('3dPCA.pdf')\n",
    "plt.show()"
   ]
  },
  {
   "cell_type": "markdown",
   "metadata": {},
   "source": [
    "## Linear Discriminant Analysis"
   ]
  },
  {
   "cell_type": "code",
   "execution_count": 13,
   "metadata": {},
   "outputs": [
    {
     "name": "stdout",
     "output_type": "stream",
     "text": [
      "(5, 2) (5, 2)\n"
     ]
    }
   ],
   "source": [
    "import numpy as np\n",
    "from matplotlib import pyplot as plt\n",
    "X1 = np.asarray([[1,2],\n",
    "     [3,4],\n",
    "     [4,3],\n",
    "     [5,5],\n",
    "     [7,5]])\n",
    "        \n",
    "X2 = np.asarray([[6,2],\n",
    "                 [9,4],\n",
    "                 [7,3],\n",
    "                 [11,4],\n",
    "                 [13,6]])\n",
    "print(X1.shape,X2.shape)"
   ]
  },
  {
   "cell_type": "code",
   "execution_count": 14,
   "metadata": {},
   "outputs": [
    {
     "name": "stdout",
     "output_type": "stream",
     "text": [
      "Mean Vector [4.  3.8]\n",
      "Scatter matrix = \n",
      "[[20.  10. ]\n",
      " [10.   6.8]]\n"
     ]
    }
   ],
   "source": [
    "mean_vec1 = np.mean(X1, axis=0)\n",
    "print('Mean Vector',mean_vec1)\n",
    "\n",
    "scatter_X1 = (X1 - mean_vec1).T.dot((X1 - mean_vec1))\n",
    "print('Scatter matrix = \\n%s' %scatter_X1)"
   ]
  },
  {
   "cell_type": "code",
   "execution_count": 15,
   "metadata": {},
   "outputs": [
    {
     "name": "stdout",
     "output_type": "stream",
     "text": [
      "Mean Vector [9.2 3.8]\n",
      "Scatter matrix = \n",
      "[[168.   16.2]\n",
      " [ 16.2   8.8]]\n"
     ]
    }
   ],
   "source": [
    "mean_vec2 = np.mean(X2, axis=0)\n",
    "print('Mean Vector',mean_vec2)\n",
    "\n",
    "scatter_X2 = (X2 - mean_vec1).T.dot((X2 - mean_vec1))\n",
    "print('Scatter matrix = \\n%s' %scatter_X2)"
   ]
  },
  {
   "cell_type": "code",
   "execution_count": 17,
   "metadata": {},
   "outputs": [
    {
     "data": {
      "text/plain": [
       "array([[188. ,  26.2],\n",
       "       [ 26.2,  15.6]])"
      ]
     },
     "execution_count": 17,
     "metadata": {},
     "output_type": "execute_result"
    }
   ],
   "source": [
    "Sw=scatter_X1+scatter_X2\n",
    "Sw"
   ]
  },
  {
   "cell_type": "code",
   "execution_count": 20,
   "metadata": {},
   "outputs": [
    {
     "data": {
      "text/plain": [
       "array([[ 0.00694457, -0.01166331],\n",
       "       [-0.01166331,  0.08369095]])"
      ]
     },
     "execution_count": 20,
     "metadata": {},
     "output_type": "execute_result"
    }
   ],
   "source": [
    "Sw_inv = np.linalg.inv(Sw)\n",
    "Sw_inv"
   ]
  },
  {
   "cell_type": "code",
   "execution_count": 26,
   "metadata": {},
   "outputs": [],
   "source": [
    "w = np.dot(Sw_inv,(mean_vec1-mean_vec2))"
   ]
  },
  {
   "cell_type": "code",
   "execution_count": 28,
   "metadata": {},
   "outputs": [
    {
     "data": {
      "text/plain": [
       "array([-0.51159917,  0.85922424])"
      ]
     },
     "execution_count": 28,
     "metadata": {},
     "output_type": "execute_result"
    }
   ],
   "source": [
    "w_hat = w / np.linalg.norm(w)\n",
    "w_hat"
   ]
  },
  {
   "cell_type": "code",
   "execution_count": null,
   "metadata": {},
   "outputs": [],
   "source": []
  }
 ],
 "metadata": {
  "kernelspec": {
   "display_name": "Python 3",
   "language": "python",
   "name": "python3"
  },
  "language_info": {
   "codemirror_mode": {
    "name": "ipython",
    "version": 3
   },
   "file_extension": ".py",
   "mimetype": "text/x-python",
   "name": "python",
   "nbconvert_exporter": "python",
   "pygments_lexer": "ipython3",
   "version": "3.6.10"
  },
  "toc": {
   "base_numbering": 1,
   "nav_menu": {},
   "number_sections": true,
   "sideBar": true,
   "skip_h1_title": true,
   "title_cell": "Table of Contents",
   "title_sidebar": "Contents",
   "toc_cell": true,
   "toc_position": {},
   "toc_section_display": true,
   "toc_window_display": false
  }
 },
 "nbformat": 4,
 "nbformat_minor": 4
}
